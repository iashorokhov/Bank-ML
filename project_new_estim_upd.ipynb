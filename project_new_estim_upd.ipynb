{
 "cells": [
  {
   "cell_type": "markdown",
   "metadata": {
    "toc": true
   },
   "source": [
    "<h1>Содержание<span class=\"tocSkip\"></span></h1>\n",
    "<div class=\"toc\"><ul class=\"toc-item\"><li><ul class=\"toc-item\"><li><span><a href=\"#План-работы.\" data-toc-modified-id=\"План-работы.-0.1\"><span class=\"toc-item-num\">0.1&nbsp;&nbsp;</span>План работы.</a></span></li><li><span><a href=\"#Описание-данных.\" data-toc-modified-id=\"Описание-данных.-0.2\"><span class=\"toc-item-num\">0.2&nbsp;&nbsp;</span>Описание данных.</a></span></li><li><span><a href=\"#Цель-работы.\" data-toc-modified-id=\"Цель-работы.-0.3\"><span class=\"toc-item-num\">0.3&nbsp;&nbsp;</span>Цель работы.</a></span></li></ul></li><li><span><a href=\"#Подготовка-данных\" data-toc-modified-id=\"Подготовка-данных-1\"><span class=\"toc-item-num\">1&nbsp;&nbsp;</span>Подготовка данных</a></span><ul class=\"toc-item\"><li><span><a href=\"#Промежуточный-вывод-1.\" data-toc-modified-id=\"Промежуточный-вывод-1.-1.1\"><span class=\"toc-item-num\">1.1&nbsp;&nbsp;</span>Промежуточный вывод 1.</a></span></li></ul></li><li><span><a href=\"#Исследование-задачи\" data-toc-modified-id=\"Исследование-задачи-2\"><span class=\"toc-item-num\">2&nbsp;&nbsp;</span>Исследование задачи</a></span><ul class=\"toc-item\"><li><span><a href=\"#Промежуточный-вывод-2\" data-toc-modified-id=\"Промежуточный-вывод-2-2.1\"><span class=\"toc-item-num\">2.1&nbsp;&nbsp;</span>Промежуточный вывод 2</a></span></li></ul></li><li><span><a href=\"#Борьба-с-дисбалансом\" data-toc-modified-id=\"Борьба-с-дисбалансом-3\"><span class=\"toc-item-num\">3&nbsp;&nbsp;</span>Борьба с дисбалансом</a></span><ul class=\"toc-item\"><li><span><a href=\"#Промежуточный-вывод-3\" data-toc-modified-id=\"Промежуточный-вывод-3-3.1\"><span class=\"toc-item-num\">3.1&nbsp;&nbsp;</span>Промежуточный вывод 3</a></span></li></ul></li><li><span><a href=\"#Тестирование-модели\" data-toc-modified-id=\"Тестирование-модели-4\"><span class=\"toc-item-num\">4&nbsp;&nbsp;</span>Тестирование модели</a></span><ul class=\"toc-item\"><li><span><a href=\"#Общий-вывод\" data-toc-modified-id=\"Общий-вывод-4.1\"><span class=\"toc-item-num\">4.1&nbsp;&nbsp;</span>Общий вывод</a></span><ul class=\"toc-item\"><li><span><a href=\"#Предобработка-данных\" data-toc-modified-id=\"Предобработка-данных-4.1.1\"><span class=\"toc-item-num\">4.1.1&nbsp;&nbsp;</span>Предобработка данных</a></span></li><li><span><a href=\"#Исследование-данных-и-моделей\" data-toc-modified-id=\"Исследование-данных-и-моделей-4.1.2\"><span class=\"toc-item-num\">4.1.2&nbsp;&nbsp;</span>Исследование данных и моделей</a></span></li><li><span><a href=\"#Работа-с-дисбалансом-и-моделями\" data-toc-modified-id=\"Работа-с-дисбалансом-и-моделями-4.1.3\"><span class=\"toc-item-num\">4.1.3&nbsp;&nbsp;</span>Работа с дисбалансом и моделями</a></span></li><li><span><a href=\"#Тестирование-наилучшей-модели\" data-toc-modified-id=\"Тестирование-наилучшей-модели-4.1.4\"><span class=\"toc-item-num\">4.1.4&nbsp;&nbsp;</span>Тестирование наилучшей модели</a></span></li></ul></li></ul></li><li><span><a href=\"#Чек-лист-готовности-проекта\" data-toc-modified-id=\"Чек-лист-готовности-проекта-5\"><span class=\"toc-item-num\">5&nbsp;&nbsp;</span>Чек-лист готовности проекта</a></span></li></ul></div>"
   ]
  },
  {
   "cell_type": "markdown",
   "metadata": {},
   "source": [
    "# Отток клиентов"
   ]
  },
  {
   "cell_type": "markdown",
   "metadata": {},
   "source": [
    "Из «Бета-Банка» стали уходить клиенты. Каждый месяц. Немного, но заметно. Банковские маркетологи посчитали: сохранять текущих клиентов дешевле, чем привлекать новых.\n",
    "\n",
    "Нужно спрогнозировать, уйдёт клиент из банка в ближайшее время или нет. Вам предоставлены исторические данные о поведении клиентов и расторжении договоров с банком. \n",
    "\n",
    "Постройте модель с предельно большим значением *F1*-меры. Чтобы сдать проект успешно, нужно довести метрику до 0.59. Проверьте *F1*-меру на тестовой выборке самостоятельно.\n",
    "\n",
    "Дополнительно измеряйте *AUC-ROC*, сравнивайте её значение с *F1*-мерой.\n",
    "\n",
    "Источник данных: [https://www.kaggle.com/barelydedicated/bank-customer-churn-modeling](https://www.kaggle.com/barelydedicated/bank-customer-churn-modeling)"
   ]
  },
  {
   "cell_type": "markdown",
   "metadata": {},
   "source": [
    "### План работы.\n",
    "- Открыть и изучить файл с данными.\n",
    "- Подготовить данные. \n",
    "- Пояснить порядок действий. \n",
    "- Исследовать задачу. \n",
    "- Исследовать баланс классов. \n",
    "- Обучить модель без учёта дисбаланса. \n",
    "- Кратко описать выводы.\n",
    "- Улучшить качество модели, учитывая дисбаланс классов. \n",
    "- Обучить разные модели и найти лучшую. \n",
    "- Кратко описать выводы.\n",
    "- Провести финальное тестирование.\n",
    "\n",
    "### Описание данных.\n",
    " Признаки\n",
    " \n",
    "- RowNumber — индекс строки в данных\n",
    "-CustomerId — уникальный идентификатор клиента\n",
    "- Surname — фамилия\n",
    "- CreditScore — кредитный рейтинг\n",
    "- Geography — страна проживания\n",
    "- Gender — пол\n",
    "- Age — возраст\n",
    "- Tenure — сколько лет человек является клиентом банка\n",
    "- Balance — баланс на счёте\n",
    "- NumOfProducts — количество продуктов банка, используемых клиентом\n",
    "- HasCrCard — наличие кредитной карты\n",
    "- IsActiveMember — активность клиента\n",
    "- EstimatedSalary — предполагаемая зарплата\n",
    " \n",
    " Целевой признак\n",
    "\n",
    "- Exited — факт ухода клиента\n",
    "\n",
    "### Цель работы.\n",
    "- Построить модель, которая будет прогнозировать уйдет клиент в ближайшее время или нет. Метрику F1-меры нужно довести до значения 0,59. "
   ]
  },
  {
   "cell_type": "code",
   "execution_count": 1,
   "metadata": {},
   "outputs": [
    {
     "name": "stdout",
     "output_type": "stream",
     "text": [
      "Collecting imblearn\n",
      "  Downloading imblearn-0.0-py2.py3-none-any.whl (1.9 kB)\n",
      "Collecting imbalanced-learn\n",
      "  Downloading imbalanced_learn-0.11.0-py3-none-any.whl (235 kB)\n",
      "\u001b[K     |████████████████████████████████| 235 kB 1.1 MB/s eta 0:00:01\n",
      "\u001b[?25hRequirement already satisfied: threadpoolctl>=2.0.0 in /opt/conda/lib/python3.9/site-packages (from imbalanced-learn->imblearn) (3.1.0)\n",
      "Collecting joblib>=1.1.1\n",
      "  Downloading joblib-1.3.2-py3-none-any.whl (302 kB)\n",
      "\u001b[K     |████████████████████████████████| 302 kB 11.9 MB/s eta 0:00:01\n",
      "\u001b[?25hRequirement already satisfied: numpy>=1.17.3 in /opt/conda/lib/python3.9/site-packages (from imbalanced-learn->imblearn) (1.21.1)\n",
      "Requirement already satisfied: scipy>=1.5.0 in /opt/conda/lib/python3.9/site-packages (from imbalanced-learn->imblearn) (1.9.1)\n",
      "Collecting scikit-learn>=1.0.2\n",
      "  Downloading scikit_learn-1.3.2-cp39-cp39-manylinux_2_17_x86_64.manylinux2014_x86_64.whl (10.9 MB)\n",
      "\u001b[K     |████████████████████████████████| 10.9 MB 35.1 MB/s eta 0:00:01\n",
      "\u001b[?25hInstalling collected packages: joblib, scikit-learn, imbalanced-learn, imblearn\n",
      "  Attempting uninstall: joblib\n",
      "    Found existing installation: joblib 1.1.0\n",
      "    Uninstalling joblib-1.1.0:\n",
      "      Successfully uninstalled joblib-1.1.0\n",
      "  Attempting uninstall: scikit-learn\n",
      "    Found existing installation: scikit-learn 0.24.1\n",
      "    Uninstalling scikit-learn-0.24.1:\n",
      "      Successfully uninstalled scikit-learn-0.24.1\n",
      "Successfully installed imbalanced-learn-0.11.0 imblearn-0.0 joblib-1.3.2 scikit-learn-1.3.2\n"
     ]
    }
   ],
   "source": [
    "!pip install imblearn\n",
    "from imblearn.over_sampling import SMOTE"
   ]
  },
  {
   "cell_type": "markdown",
   "metadata": {},
   "source": [
    "## Подготовка данных"
   ]
  },
  {
   "cell_type": "code",
   "execution_count": 2,
   "metadata": {},
   "outputs": [],
   "source": [
    "import pandas as pd\n",
    "import numpy as np\n",
    "from sklearn.model_selection import (\n",
    "    train_test_split,\n",
    "    GridSearchCV\n",
    ")\n",
    "from sklearn.tree import DecisionTreeClassifier\n",
    "from sklearn.ensemble import RandomForestClassifier\n",
    "from sklearn.linear_model import LogisticRegression\n",
    "from sklearn.preprocessing import StandardScaler\n",
    "from sklearn.utils import shuffle\n",
    "from sklearn.metrics import (\n",
    "    accuracy_score, \n",
    "    confusion_matrix, \n",
    "    f1_score,\n",
    "    roc_auc_score,\n",
    "    precision_score,\n",
    "    classification_report,\n",
    "    recall_score,\n",
    "    roc_curve\n",
    ")\n",
    "import matplotlib.pyplot as plt\n",
    "from sklearn.dummy import DummyClassifier"
   ]
  },
  {
   "cell_type": "code",
   "execution_count": 3,
   "metadata": {},
   "outputs": [],
   "source": [
    "df = pd.read_csv('/datasets/Churn.csv')"
   ]
  },
  {
   "cell_type": "code",
   "execution_count": 4,
   "metadata": {},
   "outputs": [
    {
     "name": "stdout",
     "output_type": "stream",
     "text": [
      "<class 'pandas.core.frame.DataFrame'>\n",
      "RangeIndex: 10000 entries, 0 to 9999\n",
      "Data columns (total 14 columns):\n",
      " #   Column           Non-Null Count  Dtype  \n",
      "---  ------           --------------  -----  \n",
      " 0   RowNumber        10000 non-null  int64  \n",
      " 1   CustomerId       10000 non-null  int64  \n",
      " 2   Surname          10000 non-null  object \n",
      " 3   CreditScore      10000 non-null  int64  \n",
      " 4   Geography        10000 non-null  object \n",
      " 5   Gender           10000 non-null  object \n",
      " 6   Age              10000 non-null  int64  \n",
      " 7   Tenure           9091 non-null   float64\n",
      " 8   Balance          10000 non-null  float64\n",
      " 9   NumOfProducts    10000 non-null  int64  \n",
      " 10  HasCrCard        10000 non-null  int64  \n",
      " 11  IsActiveMember   10000 non-null  int64  \n",
      " 12  EstimatedSalary  10000 non-null  float64\n",
      " 13  Exited           10000 non-null  int64  \n",
      "dtypes: float64(3), int64(8), object(3)\n",
      "memory usage: 1.1+ MB\n"
     ]
    }
   ],
   "source": [
    "df.info()"
   ]
  },
  {
   "cell_type": "code",
   "execution_count": 5,
   "metadata": {},
   "outputs": [
    {
     "data": {
      "text/plain": [
       "RowNumber            0\n",
       "CustomerId           0\n",
       "Surname              0\n",
       "CreditScore          0\n",
       "Geography            0\n",
       "Gender               0\n",
       "Age                  0\n",
       "Tenure             909\n",
       "Balance              0\n",
       "NumOfProducts        0\n",
       "HasCrCard            0\n",
       "IsActiveMember       0\n",
       "EstimatedSalary      0\n",
       "Exited               0\n",
       "dtype: int64"
      ]
     },
     "execution_count": 5,
     "metadata": {},
     "output_type": "execute_result"
    }
   ],
   "source": [
    "df.isna().sum()"
   ]
  },
  {
   "cell_type": "markdown",
   "metadata": {},
   "source": [
    "При ознакомлении с данными, обнаружились пропуске в столбце 'Tenure'. Попробуем выяснить с чем это связано и по возможности их устранить. "
   ]
  },
  {
   "cell_type": "code",
   "execution_count": 6,
   "metadata": {},
   "outputs": [
    {
     "data": {
      "text/html": [
       "<div>\n",
       "<style scoped>\n",
       "    .dataframe tbody tr th:only-of-type {\n",
       "        vertical-align: middle;\n",
       "    }\n",
       "\n",
       "    .dataframe tbody tr th {\n",
       "        vertical-align: top;\n",
       "    }\n",
       "\n",
       "    .dataframe thead th {\n",
       "        text-align: right;\n",
       "    }\n",
       "</style>\n",
       "<table border=\"1\" class=\"dataframe\">\n",
       "  <thead>\n",
       "    <tr style=\"text-align: right;\">\n",
       "      <th></th>\n",
       "      <th>RowNumber</th>\n",
       "      <th>CustomerId</th>\n",
       "      <th>Surname</th>\n",
       "      <th>CreditScore</th>\n",
       "      <th>Geography</th>\n",
       "      <th>Gender</th>\n",
       "      <th>Age</th>\n",
       "      <th>Tenure</th>\n",
       "      <th>Balance</th>\n",
       "      <th>NumOfProducts</th>\n",
       "      <th>HasCrCard</th>\n",
       "      <th>IsActiveMember</th>\n",
       "      <th>EstimatedSalary</th>\n",
       "      <th>Exited</th>\n",
       "    </tr>\n",
       "  </thead>\n",
       "  <tbody>\n",
       "    <tr>\n",
       "      <th>30</th>\n",
       "      <td>31</td>\n",
       "      <td>15589475</td>\n",
       "      <td>Azikiwe</td>\n",
       "      <td>591</td>\n",
       "      <td>Spain</td>\n",
       "      <td>Female</td>\n",
       "      <td>39</td>\n",
       "      <td>NaN</td>\n",
       "      <td>0.00</td>\n",
       "      <td>3</td>\n",
       "      <td>1</td>\n",
       "      <td>0</td>\n",
       "      <td>140469.38</td>\n",
       "      <td>1</td>\n",
       "    </tr>\n",
       "    <tr>\n",
       "      <th>48</th>\n",
       "      <td>49</td>\n",
       "      <td>15766205</td>\n",
       "      <td>Yin</td>\n",
       "      <td>550</td>\n",
       "      <td>Germany</td>\n",
       "      <td>Male</td>\n",
       "      <td>38</td>\n",
       "      <td>NaN</td>\n",
       "      <td>103391.38</td>\n",
       "      <td>1</td>\n",
       "      <td>0</td>\n",
       "      <td>1</td>\n",
       "      <td>90878.13</td>\n",
       "      <td>0</td>\n",
       "    </tr>\n",
       "    <tr>\n",
       "      <th>51</th>\n",
       "      <td>52</td>\n",
       "      <td>15768193</td>\n",
       "      <td>Trevisani</td>\n",
       "      <td>585</td>\n",
       "      <td>Germany</td>\n",
       "      <td>Male</td>\n",
       "      <td>36</td>\n",
       "      <td>NaN</td>\n",
       "      <td>146050.97</td>\n",
       "      <td>2</td>\n",
       "      <td>0</td>\n",
       "      <td>0</td>\n",
       "      <td>86424.57</td>\n",
       "      <td>0</td>\n",
       "    </tr>\n",
       "    <tr>\n",
       "      <th>53</th>\n",
       "      <td>54</td>\n",
       "      <td>15702298</td>\n",
       "      <td>Parkhill</td>\n",
       "      <td>655</td>\n",
       "      <td>Germany</td>\n",
       "      <td>Male</td>\n",
       "      <td>41</td>\n",
       "      <td>NaN</td>\n",
       "      <td>125561.97</td>\n",
       "      <td>1</td>\n",
       "      <td>0</td>\n",
       "      <td>0</td>\n",
       "      <td>164040.94</td>\n",
       "      <td>1</td>\n",
       "    </tr>\n",
       "    <tr>\n",
       "      <th>60</th>\n",
       "      <td>61</td>\n",
       "      <td>15651280</td>\n",
       "      <td>Hunter</td>\n",
       "      <td>742</td>\n",
       "      <td>Germany</td>\n",
       "      <td>Male</td>\n",
       "      <td>35</td>\n",
       "      <td>NaN</td>\n",
       "      <td>136857.00</td>\n",
       "      <td>1</td>\n",
       "      <td>0</td>\n",
       "      <td>0</td>\n",
       "      <td>84509.57</td>\n",
       "      <td>0</td>\n",
       "    </tr>\n",
       "    <tr>\n",
       "      <th>...</th>\n",
       "      <td>...</td>\n",
       "      <td>...</td>\n",
       "      <td>...</td>\n",
       "      <td>...</td>\n",
       "      <td>...</td>\n",
       "      <td>...</td>\n",
       "      <td>...</td>\n",
       "      <td>...</td>\n",
       "      <td>...</td>\n",
       "      <td>...</td>\n",
       "      <td>...</td>\n",
       "      <td>...</td>\n",
       "      <td>...</td>\n",
       "      <td>...</td>\n",
       "    </tr>\n",
       "    <tr>\n",
       "      <th>9944</th>\n",
       "      <td>9945</td>\n",
       "      <td>15703923</td>\n",
       "      <td>Cameron</td>\n",
       "      <td>744</td>\n",
       "      <td>Germany</td>\n",
       "      <td>Male</td>\n",
       "      <td>41</td>\n",
       "      <td>NaN</td>\n",
       "      <td>190409.34</td>\n",
       "      <td>2</td>\n",
       "      <td>1</td>\n",
       "      <td>1</td>\n",
       "      <td>138361.48</td>\n",
       "      <td>0</td>\n",
       "    </tr>\n",
       "    <tr>\n",
       "      <th>9956</th>\n",
       "      <td>9957</td>\n",
       "      <td>15707861</td>\n",
       "      <td>Nucci</td>\n",
       "      <td>520</td>\n",
       "      <td>France</td>\n",
       "      <td>Female</td>\n",
       "      <td>46</td>\n",
       "      <td>NaN</td>\n",
       "      <td>85216.61</td>\n",
       "      <td>1</td>\n",
       "      <td>1</td>\n",
       "      <td>0</td>\n",
       "      <td>117369.52</td>\n",
       "      <td>1</td>\n",
       "    </tr>\n",
       "    <tr>\n",
       "      <th>9964</th>\n",
       "      <td>9965</td>\n",
       "      <td>15642785</td>\n",
       "      <td>Douglas</td>\n",
       "      <td>479</td>\n",
       "      <td>France</td>\n",
       "      <td>Male</td>\n",
       "      <td>34</td>\n",
       "      <td>NaN</td>\n",
       "      <td>117593.48</td>\n",
       "      <td>2</td>\n",
       "      <td>0</td>\n",
       "      <td>0</td>\n",
       "      <td>113308.29</td>\n",
       "      <td>0</td>\n",
       "    </tr>\n",
       "    <tr>\n",
       "      <th>9985</th>\n",
       "      <td>9986</td>\n",
       "      <td>15586914</td>\n",
       "      <td>Nepean</td>\n",
       "      <td>659</td>\n",
       "      <td>France</td>\n",
       "      <td>Male</td>\n",
       "      <td>36</td>\n",
       "      <td>NaN</td>\n",
       "      <td>123841.49</td>\n",
       "      <td>2</td>\n",
       "      <td>1</td>\n",
       "      <td>0</td>\n",
       "      <td>96833.00</td>\n",
       "      <td>0</td>\n",
       "    </tr>\n",
       "    <tr>\n",
       "      <th>9999</th>\n",
       "      <td>10000</td>\n",
       "      <td>15628319</td>\n",
       "      <td>Walker</td>\n",
       "      <td>792</td>\n",
       "      <td>France</td>\n",
       "      <td>Female</td>\n",
       "      <td>28</td>\n",
       "      <td>NaN</td>\n",
       "      <td>130142.79</td>\n",
       "      <td>1</td>\n",
       "      <td>1</td>\n",
       "      <td>0</td>\n",
       "      <td>38190.78</td>\n",
       "      <td>0</td>\n",
       "    </tr>\n",
       "  </tbody>\n",
       "</table>\n",
       "<p>909 rows × 14 columns</p>\n",
       "</div>"
      ],
      "text/plain": [
       "      RowNumber  CustomerId    Surname  CreditScore Geography  Gender  Age  \\\n",
       "30           31    15589475    Azikiwe          591     Spain  Female   39   \n",
       "48           49    15766205        Yin          550   Germany    Male   38   \n",
       "51           52    15768193  Trevisani          585   Germany    Male   36   \n",
       "53           54    15702298   Parkhill          655   Germany    Male   41   \n",
       "60           61    15651280     Hunter          742   Germany    Male   35   \n",
       "...         ...         ...        ...          ...       ...     ...  ...   \n",
       "9944       9945    15703923    Cameron          744   Germany    Male   41   \n",
       "9956       9957    15707861      Nucci          520    France  Female   46   \n",
       "9964       9965    15642785    Douglas          479    France    Male   34   \n",
       "9985       9986    15586914     Nepean          659    France    Male   36   \n",
       "9999      10000    15628319     Walker          792    France  Female   28   \n",
       "\n",
       "      Tenure    Balance  NumOfProducts  HasCrCard  IsActiveMember  \\\n",
       "30       NaN       0.00              3          1               0   \n",
       "48       NaN  103391.38              1          0               1   \n",
       "51       NaN  146050.97              2          0               0   \n",
       "53       NaN  125561.97              1          0               0   \n",
       "60       NaN  136857.00              1          0               0   \n",
       "...      ...        ...            ...        ...             ...   \n",
       "9944     NaN  190409.34              2          1               1   \n",
       "9956     NaN   85216.61              1          1               0   \n",
       "9964     NaN  117593.48              2          0               0   \n",
       "9985     NaN  123841.49              2          1               0   \n",
       "9999     NaN  130142.79              1          1               0   \n",
       "\n",
       "      EstimatedSalary  Exited  \n",
       "30          140469.38       1  \n",
       "48           90878.13       0  \n",
       "51           86424.57       0  \n",
       "53          164040.94       1  \n",
       "60           84509.57       0  \n",
       "...               ...     ...  \n",
       "9944        138361.48       0  \n",
       "9956        117369.52       1  \n",
       "9964        113308.29       0  \n",
       "9985         96833.00       0  \n",
       "9999         38190.78       0  \n",
       "\n",
       "[909 rows x 14 columns]"
      ]
     },
     "metadata": {},
     "output_type": "display_data"
    }
   ],
   "source": [
    "null_tenure_rows = df[df['Tenure'].isnull()]\n",
    "display(null_tenure_rows)"
   ]
  },
  {
   "cell_type": "code",
   "execution_count": 7,
   "metadata": {},
   "outputs": [],
   "source": [
    "tenure_avg = df['Tenure'].median()\n",
    "df['Tenure'] = df['Tenure'].fillna(value=tenure_avg)"
   ]
  },
  {
   "cell_type": "code",
   "execution_count": 8,
   "metadata": {},
   "outputs": [
    {
     "data": {
      "text/plain": [
       "RowNumber          0\n",
       "CustomerId         0\n",
       "Surname            0\n",
       "CreditScore        0\n",
       "Geography          0\n",
       "Gender             0\n",
       "Age                0\n",
       "Tenure             0\n",
       "Balance            0\n",
       "NumOfProducts      0\n",
       "HasCrCard          0\n",
       "IsActiveMember     0\n",
       "EstimatedSalary    0\n",
       "Exited             0\n",
       "dtype: int64"
      ]
     },
     "execution_count": 8,
     "metadata": {},
     "output_type": "execute_result"
    }
   ],
   "source": [
    "df.isna().sum()"
   ]
  },
  {
   "cell_type": "markdown",
   "metadata": {},
   "source": [
    "Сложно сказать с чем связаны пропуски в столбце Tenure. Заменил их на медиану"
   ]
  },
  {
   "cell_type": "code",
   "execution_count": 9,
   "metadata": {},
   "outputs": [
    {
     "data": {
      "text/plain": [
       "0"
      ]
     },
     "execution_count": 9,
     "metadata": {},
     "output_type": "execute_result"
    }
   ],
   "source": [
    "df.duplicated().sum()"
   ]
  },
  {
   "cell_type": "markdown",
   "metadata": {},
   "source": [
    "Явных дублей нет, и, кажется, в данном случае быть не должно. На всякий случай поспотрим те столбцы, где дубли не допустимы"
   ]
  },
  {
   "cell_type": "code",
   "execution_count": 10,
   "metadata": {},
   "outputs": [
    {
     "data": {
      "text/plain": [
       "15646720    1\n",
       "15690456    1\n",
       "15785042    1\n",
       "15608528    1\n",
       "15590097    1\n",
       "           ..\n",
       "15621457    1\n",
       "15715667    1\n",
       "15775761    1\n",
       "15646037    1\n",
       "15812607    1\n",
       "Name: CustomerId, Length: 10000, dtype: int64"
      ]
     },
     "execution_count": 10,
     "metadata": {},
     "output_type": "execute_result"
    }
   ],
   "source": [
    "df_sorted = df.sort_values('CustomerId')\n",
    "df_sorted['CustomerId'].value_counts()"
   ]
  },
  {
   "cell_type": "code",
   "execution_count": 11,
   "metadata": {},
   "outputs": [
    {
     "name": "stdout",
     "output_type": "stream",
     "text": [
      "<class 'pandas.core.frame.DataFrame'>\n",
      "RangeIndex: 10000 entries, 0 to 9999\n",
      "Data columns (total 14 columns):\n",
      " #   Column           Non-Null Count  Dtype  \n",
      "---  ------           --------------  -----  \n",
      " 0   RowNumber        10000 non-null  int64  \n",
      " 1   CustomerId       10000 non-null  int64  \n",
      " 2   Surname          10000 non-null  object \n",
      " 3   CreditScore      10000 non-null  int64  \n",
      " 4   Geography        10000 non-null  object \n",
      " 5   Gender           10000 non-null  object \n",
      " 6   Age              10000 non-null  int64  \n",
      " 7   Tenure           10000 non-null  float64\n",
      " 8   Balance          10000 non-null  float64\n",
      " 9   NumOfProducts    10000 non-null  int64  \n",
      " 10  HasCrCard        10000 non-null  int64  \n",
      " 11  IsActiveMember   10000 non-null  int64  \n",
      " 12  EstimatedSalary  10000 non-null  float64\n",
      " 13  Exited           10000 non-null  int64  \n",
      "dtypes: float64(3), int64(8), object(3)\n",
      "memory usage: 1.1+ MB\n"
     ]
    }
   ],
   "source": [
    "df.info()"
   ]
  },
  {
   "cell_type": "code",
   "execution_count": 12,
   "metadata": {
    "scrolled": true
   },
   "outputs": [
    {
     "name": "stdout",
     "output_type": "stream",
     "text": [
      "RowNumber            int64\n",
      "CustomerId           int64\n",
      "Surname             object\n",
      "CreditScore          int64\n",
      "Geography           object\n",
      "Gender              object\n",
      "Age                  int64\n",
      "Tenure             float64\n",
      "Balance            float64\n",
      "NumOfProducts        int64\n",
      "HasCrCard            int64\n",
      "IsActiveMember       int64\n",
      "EstimatedSalary    float64\n",
      "Exited               int64\n",
      "dtype: object\n"
     ]
    }
   ],
   "source": [
    "print(df.dtypes)"
   ]
  },
  {
   "cell_type": "code",
   "execution_count": 13,
   "metadata": {},
   "outputs": [],
   "source": [
    "df = df.drop('RowNumber', axis=1)\n",
    "df = df.drop('CustomerId', axis=1)\n",
    "df = df.drop('Surname', axis=1)"
   ]
  },
  {
   "cell_type": "code",
   "execution_count": 14,
   "metadata": {},
   "outputs": [
    {
     "data": {
      "text/html": [
       "<div>\n",
       "<style scoped>\n",
       "    .dataframe tbody tr th:only-of-type {\n",
       "        vertical-align: middle;\n",
       "    }\n",
       "\n",
       "    .dataframe tbody tr th {\n",
       "        vertical-align: top;\n",
       "    }\n",
       "\n",
       "    .dataframe thead th {\n",
       "        text-align: right;\n",
       "    }\n",
       "</style>\n",
       "<table border=\"1\" class=\"dataframe\">\n",
       "  <thead>\n",
       "    <tr style=\"text-align: right;\">\n",
       "      <th></th>\n",
       "      <th>CreditScore</th>\n",
       "      <th>Age</th>\n",
       "      <th>Tenure</th>\n",
       "      <th>Balance</th>\n",
       "      <th>NumOfProducts</th>\n",
       "      <th>HasCrCard</th>\n",
       "      <th>IsActiveMember</th>\n",
       "      <th>EstimatedSalary</th>\n",
       "      <th>Exited</th>\n",
       "      <th>Geography_Germany</th>\n",
       "      <th>Geography_Spain</th>\n",
       "      <th>Gender_Male</th>\n",
       "    </tr>\n",
       "  </thead>\n",
       "  <tbody>\n",
       "    <tr>\n",
       "      <th>0</th>\n",
       "      <td>619</td>\n",
       "      <td>42</td>\n",
       "      <td>2.0</td>\n",
       "      <td>0.00</td>\n",
       "      <td>1</td>\n",
       "      <td>1</td>\n",
       "      <td>1</td>\n",
       "      <td>101348.88</td>\n",
       "      <td>1</td>\n",
       "      <td>0</td>\n",
       "      <td>0</td>\n",
       "      <td>0</td>\n",
       "    </tr>\n",
       "    <tr>\n",
       "      <th>1</th>\n",
       "      <td>608</td>\n",
       "      <td>41</td>\n",
       "      <td>1.0</td>\n",
       "      <td>83807.86</td>\n",
       "      <td>1</td>\n",
       "      <td>0</td>\n",
       "      <td>1</td>\n",
       "      <td>112542.58</td>\n",
       "      <td>0</td>\n",
       "      <td>0</td>\n",
       "      <td>1</td>\n",
       "      <td>0</td>\n",
       "    </tr>\n",
       "    <tr>\n",
       "      <th>2</th>\n",
       "      <td>502</td>\n",
       "      <td>42</td>\n",
       "      <td>8.0</td>\n",
       "      <td>159660.80</td>\n",
       "      <td>3</td>\n",
       "      <td>1</td>\n",
       "      <td>0</td>\n",
       "      <td>113931.57</td>\n",
       "      <td>1</td>\n",
       "      <td>0</td>\n",
       "      <td>0</td>\n",
       "      <td>0</td>\n",
       "    </tr>\n",
       "  </tbody>\n",
       "</table>\n",
       "</div>"
      ],
      "text/plain": [
       "   CreditScore  Age  Tenure    Balance  NumOfProducts  HasCrCard  \\\n",
       "0          619   42     2.0       0.00              1          1   \n",
       "1          608   41     1.0   83807.86              1          0   \n",
       "2          502   42     8.0  159660.80              3          1   \n",
       "\n",
       "   IsActiveMember  EstimatedSalary  Exited  Geography_Germany  \\\n",
       "0               1        101348.88       1                  0   \n",
       "1               1        112542.58       0                  0   \n",
       "2               0        113931.57       1                  0   \n",
       "\n",
       "   Geography_Spain  Gender_Male  \n",
       "0                0            0  \n",
       "1                1            0  \n",
       "2                0            0  "
      ]
     },
     "execution_count": 14,
     "metadata": {},
     "output_type": "execute_result"
    }
   ],
   "source": [
    "df_ohe = pd.get_dummies(df, drop_first=True)\n",
    "df_ohe.head(3)"
   ]
  },
  {
   "cell_type": "markdown",
   "metadata": {},
   "source": [
    "### Промежуточный вывод 1. \n",
    "- Типы данных в столбцах соответствуют и не требуют изменений. \n",
    "- Пропуски в столбце 'Tenure' заменены на медианное значение.\n",
    "- Дбуликаты не выявлены.\n",
    "- После предобработки данных, объем датасета не изменился.\n",
    "- Категориальные признаки были преобразованы прямым кодированием.\n",
    "- Получил преобразованный датасет df_ohe."
   ]
  },
  {
   "cell_type": "markdown",
   "metadata": {},
   "source": [
    "## Исследование задачи"
   ]
  },
  {
   "cell_type": "markdown",
   "metadata": {},
   "source": [
    "Начнем с логистической регрессии."
   ]
  },
  {
   "cell_type": "code",
   "execution_count": 15,
   "metadata": {},
   "outputs": [
    {
     "name": "stdout",
     "output_type": "stream",
     "text": [
      "Размер обучающей выборки: (6000, 12)\n",
      "Размер валидационной выборки: (2000, 12)\n",
      "Размер тестовой выборки: (2000, 12)\n"
     ]
    }
   ],
   "source": [
    "#разделение датасета на обучающую и тестовую выборки\n",
    "train_data, test_data = train_test_split(df_ohe, test_size=0.2, random_state=42)\n",
    "# Извлечение признаков для обучения и целевого признака\n",
    "features = train_data.drop(['Exited'], axis = 1) \n",
    "target = train_data['Exited']\n",
    "# Разделение обучающей выборки на обучающую и валидационную выборки\n",
    "train_data, val_data = train_test_split(train_data, test_size=0.25, random_state=42)\n",
    "# Проверка размеров выборок\n",
    "print(\"Размер обучающей выборки:\", train_data.shape)\n",
    "print(\"Размер валидационной выборки:\", val_data.shape)\n",
    "print(\"Размер тестовой выборки:\", test_data.shape)"
   ]
  },
  {
   "cell_type": "code",
   "execution_count": 16,
   "metadata": {},
   "outputs": [],
   "source": [
    "features_train = train_data.drop(['Exited'], axis=1)\n",
    "target_train = train_data['Exited']\n",
    "features_valid = val_data.drop(['Exited'], axis=1)\n",
    "target_valid = val_data['Exited']\n",
    "test_target = test_data['Exited']\n",
    "test_features = test_data.drop(['Exited'], axis = 1)"
   ]
  },
  {
   "cell_type": "code",
   "execution_count": 17,
   "metadata": {},
   "outputs": [
    {
     "data": {
      "text/html": [
       "<style>#sk-container-id-1 {color: black;}#sk-container-id-1 pre{padding: 0;}#sk-container-id-1 div.sk-toggleable {background-color: white;}#sk-container-id-1 label.sk-toggleable__label {cursor: pointer;display: block;width: 100%;margin-bottom: 0;padding: 0.3em;box-sizing: border-box;text-align: center;}#sk-container-id-1 label.sk-toggleable__label-arrow:before {content: \"▸\";float: left;margin-right: 0.25em;color: #696969;}#sk-container-id-1 label.sk-toggleable__label-arrow:hover:before {color: black;}#sk-container-id-1 div.sk-estimator:hover label.sk-toggleable__label-arrow:before {color: black;}#sk-container-id-1 div.sk-toggleable__content {max-height: 0;max-width: 0;overflow: hidden;text-align: left;background-color: #f0f8ff;}#sk-container-id-1 div.sk-toggleable__content pre {margin: 0.2em;color: black;border-radius: 0.25em;background-color: #f0f8ff;}#sk-container-id-1 input.sk-toggleable__control:checked~div.sk-toggleable__content {max-height: 200px;max-width: 100%;overflow: auto;}#sk-container-id-1 input.sk-toggleable__control:checked~label.sk-toggleable__label-arrow:before {content: \"▾\";}#sk-container-id-1 div.sk-estimator input.sk-toggleable__control:checked~label.sk-toggleable__label {background-color: #d4ebff;}#sk-container-id-1 div.sk-label input.sk-toggleable__control:checked~label.sk-toggleable__label {background-color: #d4ebff;}#sk-container-id-1 input.sk-hidden--visually {border: 0;clip: rect(1px 1px 1px 1px);clip: rect(1px, 1px, 1px, 1px);height: 1px;margin: -1px;overflow: hidden;padding: 0;position: absolute;width: 1px;}#sk-container-id-1 div.sk-estimator {font-family: monospace;background-color: #f0f8ff;border: 1px dotted black;border-radius: 0.25em;box-sizing: border-box;margin-bottom: 0.5em;}#sk-container-id-1 div.sk-estimator:hover {background-color: #d4ebff;}#sk-container-id-1 div.sk-parallel-item::after {content: \"\";width: 100%;border-bottom: 1px solid gray;flex-grow: 1;}#sk-container-id-1 div.sk-label:hover label.sk-toggleable__label {background-color: #d4ebff;}#sk-container-id-1 div.sk-serial::before {content: \"\";position: absolute;border-left: 1px solid gray;box-sizing: border-box;top: 0;bottom: 0;left: 50%;z-index: 0;}#sk-container-id-1 div.sk-serial {display: flex;flex-direction: column;align-items: center;background-color: white;padding-right: 0.2em;padding-left: 0.2em;position: relative;}#sk-container-id-1 div.sk-item {position: relative;z-index: 1;}#sk-container-id-1 div.sk-parallel {display: flex;align-items: stretch;justify-content: center;background-color: white;position: relative;}#sk-container-id-1 div.sk-item::before, #sk-container-id-1 div.sk-parallel-item::before {content: \"\";position: absolute;border-left: 1px solid gray;box-sizing: border-box;top: 0;bottom: 0;left: 50%;z-index: -1;}#sk-container-id-1 div.sk-parallel-item {display: flex;flex-direction: column;z-index: 1;position: relative;background-color: white;}#sk-container-id-1 div.sk-parallel-item:first-child::after {align-self: flex-end;width: 50%;}#sk-container-id-1 div.sk-parallel-item:last-child::after {align-self: flex-start;width: 50%;}#sk-container-id-1 div.sk-parallel-item:only-child::after {width: 0;}#sk-container-id-1 div.sk-dashed-wrapped {border: 1px dashed gray;margin: 0 0.4em 0.5em 0.4em;box-sizing: border-box;padding-bottom: 0.4em;background-color: white;}#sk-container-id-1 div.sk-label label {font-family: monospace;font-weight: bold;display: inline-block;line-height: 1.2em;}#sk-container-id-1 div.sk-label-container {text-align: center;}#sk-container-id-1 div.sk-container {/* jupyter's `normalize.less` sets `[hidden] { display: none; }` but bootstrap.min.css set `[hidden] { display: none !important; }` so we also need the `!important` here to be able to override the default hidden behavior on the sphinx rendered scikit-learn.org. See: https://github.com/scikit-learn/scikit-learn/issues/21755 */display: inline-block !important;position: relative;}#sk-container-id-1 div.sk-text-repr-fallback {display: none;}</style><div id=\"sk-container-id-1\" class=\"sk-top-container\"><div class=\"sk-text-repr-fallback\"><pre>StandardScaler()</pre><b>In a Jupyter environment, please rerun this cell to show the HTML representation or trust the notebook. <br />On GitHub, the HTML representation is unable to render, please try loading this page with nbviewer.org.</b></div><div class=\"sk-container\" hidden><div class=\"sk-item\"><div class=\"sk-estimator sk-toggleable\"><input class=\"sk-toggleable__control sk-hidden--visually\" id=\"sk-estimator-id-1\" type=\"checkbox\" checked><label for=\"sk-estimator-id-1\" class=\"sk-toggleable__label sk-toggleable__label-arrow\">StandardScaler</label><div class=\"sk-toggleable__content\"><pre>StandardScaler()</pre></div></div></div></div></div>"
      ],
      "text/plain": [
       "StandardScaler()"
      ]
     },
     "execution_count": 17,
     "metadata": {},
     "output_type": "execute_result"
    }
   ],
   "source": [
    "scaler = StandardScaler()\n",
    "scaler.fit(features_train)"
   ]
  },
  {
   "cell_type": "code",
   "execution_count": 18,
   "metadata": {},
   "outputs": [],
   "source": [
    "features_train_scaled = scaler.transform(features_train)\n",
    "features_valid_scaled = scaler.transform(features_valid)\n",
    "test_features_scaled = scaler.transform(test_features)\n",
    "pd.options.mode.chained_assignment = None"
   ]
  },
  {
   "cell_type": "code",
   "execution_count": 19,
   "metadata": {},
   "outputs": [
    {
     "name": "stdout",
     "output_type": "stream",
     "text": [
      "Обучено!\n"
     ]
    }
   ],
   "source": [
    "model = LogisticRegression(random_state=12345, solver='liblinear')\n",
    "model.fit(features_train_scaled, target_train)\n",
    "print(\"Обучено!\")"
   ]
  },
  {
   "cell_type": "code",
   "execution_count": 20,
   "metadata": {},
   "outputs": [],
   "source": [
    "predicted_valid = model.predict(features_valid_scaled)"
   ]
  },
  {
   "cell_type": "code",
   "execution_count": 21,
   "metadata": {},
   "outputs": [
    {
     "name": "stdout",
     "output_type": "stream",
     "text": [
      "F1: 0.31351351351351353\n"
     ]
    }
   ],
   "source": [
    "print('F1:', f1_score(target_valid, predicted_valid))"
   ]
  },
  {
   "cell_type": "markdown",
   "metadata": {},
   "source": [
    "Низкое значение метрики связано с дисбалансом классов. "
   ]
  },
  {
   "cell_type": "markdown",
   "metadata": {},
   "source": [
    "Подберем гиперпараметры для дерева решений"
   ]
  },
  {
   "cell_type": "code",
   "execution_count": 22,
   "metadata": {},
   "outputs": [
    {
     "name": "stdout",
     "output_type": "stream",
     "text": [
      "Best depth: 5\n",
      "Best score: 0.5756676557863502\n"
     ]
    }
   ],
   "source": [
    "best_score = float('-inf')\n",
    "best_depth = 0\n",
    "\n",
    "for depth in range(1, 16):\n",
    "    model = DecisionTreeClassifier(max_depth=depth, random_state=12345)\n",
    "    model.fit(features_train_scaled, target_train)\n",
    "    predict = model.predict(features_valid_scaled)\n",
    "    score = f1_score(target_valid, predict)\n",
    "    \n",
    "    if score > best_score:\n",
    "        best_score = score\n",
    "        best_depth = depth\n",
    "\n",
    "print(\"Best depth:\", best_depth)\n",
    "print(\"Best score:\", best_score)"
   ]
  },
  {
   "cell_type": "code",
   "execution_count": 23,
   "metadata": {},
   "outputs": [
    {
     "name": "stdout",
     "output_type": "stream",
     "text": [
      "F1: 0.5756676557863502\n"
     ]
    }
   ],
   "source": [
    "dtc_model = DecisionTreeClassifier(random_state=12345, max_depth=5)\n",
    "dtc_model.fit(features_train_scaled, target_train)\n",
    "predicted_dtc = dtc_model.predict(features_valid_scaled)\n",
    "print('F1:', f1_score(target_valid, predicted_dtc))"
   ]
  },
  {
   "cell_type": "markdown",
   "metadata": {},
   "source": [
    "Подберем гиперпараметры для случайного леса"
   ]
  },
  {
   "cell_type": "code",
   "execution_count": 24,
   "metadata": {},
   "outputs": [
    {
     "name": "stdout",
     "output_type": "stream",
     "text": [
      "Best depth: 12\n",
      "Best score: 0.5973254086181278\n"
     ]
    }
   ],
   "source": [
    "best_score = float('-inf')\n",
    "best_depth = 0\n",
    "\n",
    "for depth in range(1, 16):\n",
    "    model = RandomForestClassifier(n_estimators=20, max_depth=depth, random_state=12345)\n",
    "    model.fit(features_train_scaled, target_train)\n",
    "    predict = model.predict(features_valid_scaled)\n",
    "    score = f1_score(target_valid, predict)\n",
    "    \n",
    "    if score > best_score:\n",
    "        best_score = score\n",
    "        best_depth = depth\n",
    "\n",
    "print(\"Best depth:\", best_depth)\n",
    "print(\"Best score:\", best_score)"
   ]
  },
  {
   "cell_type": "code",
   "execution_count": 25,
   "metadata": {},
   "outputs": [
    {
     "name": "stdout",
     "output_type": "stream",
     "text": [
      "Best estimators: 18\n",
      "Best score: 0.5950920245398773\n"
     ]
    }
   ],
   "source": [
    "best_score = float('-inf')\n",
    "best_est = 0\n",
    "\n",
    "for est in range(1, 50):\n",
    "    model = RandomForestClassifier(n_estimators=est, max_depth=11, random_state=12345)\n",
    "    model.fit(features_train_scaled, target_train)\n",
    "    predict = model.predict(features_valid_scaled)\n",
    "    score = f1_score(target_valid, predict)\n",
    "    \n",
    "    if score > best_score:\n",
    "        best_score = score\n",
    "        best_est = est\n",
    "\n",
    "print(\"Best estimators:\", best_est)\n",
    "print(\"Best score:\", best_score)"
   ]
  },
  {
   "cell_type": "code",
   "execution_count": 26,
   "metadata": {},
   "outputs": [
    {
     "name": "stdout",
     "output_type": "stream",
     "text": [
      "F1: 0.5979073243647235\n"
     ]
    }
   ],
   "source": [
    "rfc_model = RandomForestClassifier(random_state=12345, max_depth=12, n_estimators=18)\n",
    "rfc_model.fit(features_train_scaled, target_train)\n",
    "predicted_rfc = rfc_model.predict(features_valid_scaled)\n",
    "print('F1:', f1_score(target_valid, predicted_rfc))"
   ]
  },
  {
   "cell_type": "markdown",
   "metadata": {},
   "source": [
    "Лучше всего себя показывает модель случайного леса"
   ]
  },
  {
   "cell_type": "markdown",
   "metadata": {},
   "source": [
    "### Промежуточный вывод 2\n",
    "\n",
    "- Исследованы модели логистической регрессии, дерева решений и случайного леса, без учета дисбаланса\n",
    "- Датасет разделен на 3 выборки: тестовую, валидационную и обучающую. Ко всем трем применил масштабирование\n",
    "- Подобрал гиперпараметры для моделей случайного леса и дерева решений.\n",
    "- Лучше всего на данном этапе себя показывает модель случайного леса с метрикой F1 равной 0.59"
   ]
  },
  {
   "cell_type": "markdown",
   "metadata": {},
   "source": [
    "## Борьба с дисбалансом"
   ]
  },
  {
   "cell_type": "code",
   "execution_count": 27,
   "metadata": {},
   "outputs": [
    {
     "name": "stdout",
     "output_type": "stream",
     "text": [
      "F1: 0.36049970255800123\n"
     ]
    },
    {
     "name": "stderr",
     "output_type": "stream",
     "text": [
      "/opt/conda/lib/python3.9/site-packages/sklearn/base.py:458: UserWarning: X has feature names, but LogisticRegression was fitted without feature names\n",
      "  warnings.warn(\n"
     ]
    }
   ],
   "source": [
    "model = LogisticRegression(random_state=12345, solver='liblinear', class_weight='balanced')\n",
    "model.fit(features_train_scaled, target_train)\n",
    "predicted_valid = model.predict(features_valid)\n",
    "print('F1:', f1_score(target_valid, predicted_valid))"
   ]
  },
  {
   "cell_type": "markdown",
   "metadata": {},
   "source": [
    "После балансировки классов метрика модели логистической регрессии выросла, но не значительно"
   ]
  },
  {
   "cell_type": "markdown",
   "metadata": {},
   "source": [
    "Поробуем улучшить метрику для модели дерева решений"
   ]
  },
  {
   "cell_type": "code",
   "execution_count": 28,
   "metadata": {},
   "outputs": [],
   "source": [
    "oversample = SMOTE(random_state=12345)\n",
    "\n",
    "features_train_up, target_train_up = oversample.fit_resample(features_train_scaled, target_train)"
   ]
  },
  {
   "cell_type": "code",
   "execution_count": 29,
   "metadata": {},
   "outputs": [
    {
     "name": "stdout",
     "output_type": "stream",
     "text": [
      "Best depth: 6\n",
      "Best score: 0.576837416481069\n"
     ]
    }
   ],
   "source": [
    "best_score = float('-inf')\n",
    "best_depth = 0\n",
    "\n",
    "for depth in range(1, 16):\n",
    "    model = DecisionTreeClassifier(max_depth=depth, random_state=12345)\n",
    "    model.fit(features_train_up, target_train_up)\n",
    "    predict = model.predict(features_valid_scaled)\n",
    "    score = f1_score(target_valid, predict)\n",
    "    \n",
    "    if score > best_score:\n",
    "        best_score = score\n",
    "        best_depth = depth\n",
    "\n",
    "print(\"Best depth:\", best_depth)\n",
    "print(\"Best score:\", best_score)"
   ]
  },
  {
   "cell_type": "code",
   "execution_count": 30,
   "metadata": {},
   "outputs": [
    {
     "name": "stdout",
     "output_type": "stream",
     "text": [
      "F1: 0.576837416481069\n"
     ]
    }
   ],
   "source": [
    "model_dtc = DecisionTreeClassifier(max_depth=6, random_state=12345)\n",
    "model_dtc.fit(features_train_up, target_train_up)\n",
    "predicted_dtc = model_dtc.predict(features_valid_scaled)\n",
    "print('F1:', f1_score(target_valid, predicted_dtc))"
   ]
  },
  {
   "cell_type": "markdown",
   "metadata": {},
   "source": [
    "Качество улучшилось, но не дотягивает до таргета. Попробуем модель случайного леса"
   ]
  },
  {
   "cell_type": "code",
   "execution_count": 31,
   "metadata": {},
   "outputs": [
    {
     "name": "stdout",
     "output_type": "stream",
     "text": [
      "0    6356\n",
      "1    1644\n",
      "Name: Exited, dtype: int64\n",
      "\n",
      "Соотношение классов равно  0.25865324103209564\n",
      "\n",
      "Соотношение классов равно  0.2055\n"
     ]
    }
   ],
   "source": [
    "print(target.value_counts())\n",
    "print()\n",
    "print('Соотношение классов равно ', 1644/6356)\n",
    "print()\n",
    "print('Соотношение классов равно ', target.mean())"
   ]
  },
  {
   "cell_type": "code",
   "execution_count": 39,
   "metadata": {},
   "outputs": [
    {
     "name": "stdout",
     "output_type": "stream",
     "text": [
      "Best depth: 8\n",
      "Best score: 0.565149136577708\n"
     ]
    }
   ],
   "source": [
    "best_score = float('-inf')\n",
    "best_depth = 0\n",
    "\n",
    "for depth in range(1, 10):\n",
    "    model = RandomForestClassifier(n_estimators=20, max_depth=depth, random_state=12345)\n",
    "    model.fit(features_train_scaled, target_train)\n",
    "    predict = model.predict(features_valid_scaled)\n",
    "    score = f1_score(target_valid, predict)\n",
    "    \n",
    "    if score > best_score:\n",
    "        best_score = score\n",
    "        best_depth = depth\n",
    "\n",
    "print(\"Best depth:\", best_depth)\n",
    "print(\"Best score:\", best_score)"
   ]
  },
  {
   "cell_type": "code",
   "execution_count": 42,
   "metadata": {},
   "outputs": [
    {
     "name": "stdout",
     "output_type": "stream",
     "text": [
      "Best estimators: 10\n",
      "Best score: 0.5799373040752351\n"
     ]
    }
   ],
   "source": [
    "best_score = float('-inf')\n",
    "best_est = 0\n",
    "\n",
    "for est in range(1, 30):\n",
    "    model = RandomForestClassifier(n_estimators=est, max_depth=8, random_state=12345)\n",
    "    model.fit(features_train_scaled, target_train)\n",
    "    predict = model.predict(features_valid_scaled)\n",
    "    score = f1_score(target_valid, predict)\n",
    "    \n",
    "    if score > best_score:\n",
    "        best_score = score\n",
    "        best_est = est\n",
    "\n",
    "print(\"Best estimators:\", best_est)\n",
    "print(\"Best score:\", best_score)"
   ]
  },
  {
   "cell_type": "code",
   "execution_count": 43,
   "metadata": {},
   "outputs": [
    {
     "name": "stdout",
     "output_type": "stream",
     "text": [
      "F1: 0.611336032388664\n"
     ]
    }
   ],
   "source": [
    "rfc_model = RandomForestClassifier(random_state=12345, max_depth=8, n_estimators=10)\n",
    "rfc_model.fit(features_train_up, target_train_up)\n",
    "predicted_rfc = rfc_model.predict(features_valid_scaled)\n",
    "print('F1:', f1_score(target_valid, predicted_rfc))"
   ]
  },
  {
   "cell_type": "markdown",
   "metadata": {},
   "source": [
    "Значение метрики достигло таргетного значения."
   ]
  },
  {
   "cell_type": "markdown",
   "metadata": {},
   "source": [
    "### Промежуточный вывод 3\n",
    "- Протестированы три модели\n",
    "- Устранен дисбаланс с помомщью параметра class_weight для логической регрессии и с помощью апсемплинга для дерева решений и случайного леса\n",
    "- Лучший результат показала модель случайного леса с метрикой F1 равной 0,60\n",
    "- Самый худший результат у логистической регрессии\n",
    "- В качестве модели для тестирования выбран случайный лес"
   ]
  },
  {
   "cell_type": "markdown",
   "metadata": {},
   "source": [
    "## Тестирование модели"
   ]
  },
  {
   "cell_type": "code",
   "execution_count": 35,
   "metadata": {},
   "outputs": [
    {
     "name": "stdout",
     "output_type": "stream",
     "text": [
      "Точность модели на тестовой выборке: 0.8215\n",
      "F1: 0.5975197294250282\n",
      "Полнота 0.6743002544529262\n"
     ]
    }
   ],
   "source": [
    "# Проверим качество выбранной модели на тестовой выборке \n",
    "best_model = RandomForestClassifier(random_state=12345, max_depth=8, n_estimators=10)\n",
    "best_model.fit(features_train_up, target_train_up)\n",
    "accuracy = best_model.score(test_features_scaled, test_target)\n",
    "\n",
    "# Вывод точности модели и метрик F1 и AUC_ROC\n",
    "print(\"Точность модели на тестовой выборке:\", accuracy)\n",
    "predictions = best_model.predict(test_features_scaled)\n",
    "print('F1:', f1_score(test_target, predictions))\n",
    "print('Полнота', recall_score(test_target, predictions))"
   ]
  },
  {
   "cell_type": "markdown",
   "metadata": {},
   "source": [
    "Метрики в таргетных значениях, осталось изучить метрику AUC-ROC"
   ]
  },
  {
   "cell_type": "code",
   "execution_count": 36,
   "metadata": {},
   "outputs": [
    {
     "data": {
      "image/png": "[encoded data removed]",
      "text/plain": [
       "<Figure size 432x288 with 1 Axes>"
      ]
     },
     "metadata": {
      "needs_background": "light"
     },
     "output_type": "display_data"
    }
   ],
   "source": [
    "probabilities = best_model.predict_proba(test_features_scaled)\n",
    "probabilities_one = probabilities[:, 1]\n",
    "fpr, tpr, thresholds = roc_curve(test_target, probabilities_one)\n",
    "\n",
    "plt.figure()\n",
    "figsize=(6, 6)\n",
    "\n",
    "# ROC-кривая случайной модели (выглядит как прямая)\n",
    "plt.plot(fpr, tpr)\n",
    "plt.ylim([0.0, 1.0])\n",
    "plt.xlim([0.0, 1.0])\n",
    "plt.xlabel('False Positive Rate')\n",
    "plt.ylabel('True Positive Rate')\n",
    "plt.title('ROC-кривая')\n",
    "plt.show()"
   ]
  },
  {
   "cell_type": "code",
   "execution_count": 37,
   "metadata": {},
   "outputs": [
    {
     "name": "stdout",
     "output_type": "stream",
     "text": [
      "0.845770967031958\n"
     ]
    }
   ],
   "source": [
    "auc_roc = roc_auc_score(test_target, probabilities_one)\n",
    "print(auc_roc)"
   ]
  },
  {
   "cell_type": "markdown",
   "metadata": {},
   "source": [
    "Значение метрики достаточно высокое, модель явно отличается от случайной"
   ]
  },
  {
   "cell_type": "code",
   "execution_count": 38,
   "metadata": {},
   "outputs": [
    {
     "data": {
      "text/plain": [
       "0.32845800250731305"
      ]
     },
     "execution_count": 38,
     "metadata": {},
     "output_type": "execute_result"
    }
   ],
   "source": [
    "dummy_model = DummyClassifier(strategy='constant', constant=1)\n",
    "dummy_model.fit(features_train_up, target_train_up)\n",
    "f1_score(dummy_model.predict(test_features_scaled), test_target)"
   ]
  },
  {
   "cell_type": "markdown",
   "metadata": {},
   "source": [
    "Если сравнивать значение метрик F1 модели случайного леса и константной модели, то получается следующее: 0,6 против 0,32, что говорит о вменяемости модели."
   ]
  },
  {
   "cell_type": "markdown",
   "metadata": {},
   "source": [
    "### Общий вывод\n",
    "\n",
    "#### Предобработка данных\n",
    "- Типы данных в столбцах соответствуют и не требуют изменений\n",
    "- Пропуски в столбце 'Tenure' заменены на медианное значение\n",
    "- Дбуликаты не выявлены\n",
    "- После предобработки данных, объем датасета не изменился\n",
    "- Категориальные признаки были преобразованы прямым кодированием\n",
    "- Получил преобразованный датасет df_ohe\n",
    "\n",
    "#### Исследование данных и моделей\n",
    "- Исследованы модели логистической регрессии, дерева решений и случайного леса, без учета дисбаланса\n",
    "- Датасет разделен на 3 выборки: тестовую, валидационную и обучающую. Ко всем трем применил масштабирование\n",
    "- Подобрал гиперпараметры для моделей случайного леса и дерева решений\n",
    "- Лучше всего на данном этапе себя показывает модель случайного леса с метрикой F1 равной 0.58\n",
    "\n",
    "#### Работа с дисбалансом и моделями\n",
    "- Протестированы три модели\n",
    "- Устранен дисбаланс с помомщью параметра class_weight для логической регрессии и с помощью апсемплинга для дерева решений и случайного леса\n",
    "- Лучший результат показала модель случайного леса с метрикой F1 равной 0,60\n",
    "- Самый худший результат у логистической регрессии\n",
    "- В качестве модели для тестирования выбран случайный лес\n",
    "\n",
    "#### Тестирование наилучшей модели\n",
    "- Результаты тестирования лучшей модели показали следующие результаты метрик: F1 = 0,6 , Accuracy = 0,82 , Recall = 0,68\n",
    "- Значения метрик говорят об успешном тестировании модели, а также о том, что модель диктует верно 68% клиентов на отток\n",
    "- Если сравнить метрику F1 лучшей модели и константной модели 0,59 против 0,32 соответственно, то можно сказать, что модель вполне вменяема\n",
    "- Также важно отметить, что метрика ROC-AUC равна 0,85, что также говорит о высоком качестве модели"
   ]
  },
  {
   "cell_type": "markdown",
   "metadata": {},
   "source": [
    "## Чек-лист готовности проекта"
   ]
  },
  {
   "cell_type": "markdown",
   "metadata": {},
   "source": [
    "Поставьте 'x' в выполненных пунктах. Далее нажмите Shift+Enter."
   ]
  },
  {
   "cell_type": "markdown",
   "metadata": {},
   "source": [
    "- [x]  Jupyter Notebook открыт\n",
    "- [x]  Весь код выполняется без ошибок\n",
    "- [x]  Ячейки с кодом расположены в порядке исполнения\n",
    "- [x]  Выполнен шаг 1: данные подготовлены\n",
    "- [x]  Выполнен шаг 2: задача исследована\n",
    "    - [x]  Исследован баланс классов\n",
    "    - [x]  Изучены модели без учёта дисбаланса\n",
    "    - [x]  Написаны выводы по результатам исследования\n",
    "- [x]  Выполнен шаг 3: учтён дисбаланс\n",
    "    - [x]  Применено несколько способов борьбы с дисбалансом\n",
    "    - [x]  Написаны выводы по результатам исследования\n",
    "- [x]  Выполнен шаг 4: проведено тестирование\n",
    "- [x]  Удалось достичь *F1*-меры не менее 0.59\n",
    "- [x]  Исследована метрика *AUC-ROC*"
   ]
  }
 ],
 "metadata": {
  "ExecuteTimeLog": [
   {
    "duration": 1281,
    "start_time": "2023-08-09T15:20:54.156Z"
   },
   {
    "duration": 147,
    "start_time": "2023-08-09T15:20:55.440Z"
   },
   {
    "duration": 16,
    "start_time": "2023-08-09T15:20:55.589Z"
   },
   {
    "duration": 500,
    "start_time": "2023-08-09T15:23:46.581Z"
   },
   {
    "duration": 42,
    "start_time": "2023-08-09T15:23:47.830Z"
   },
   {
    "duration": 18,
    "start_time": "2023-08-09T15:23:48.917Z"
   },
   {
    "duration": 55439,
    "start_time": "2023-08-09T15:26:16.614Z"
   },
   {
    "duration": 8,
    "start_time": "2023-08-09T15:40:51.408Z"
   },
   {
    "duration": 9,
    "start_time": "2023-08-09T15:42:50.721Z"
   },
   {
    "duration": 6,
    "start_time": "2023-08-09T15:43:07.330Z"
   },
   {
    "duration": 6,
    "start_time": "2023-08-09T15:43:19.571Z"
   },
   {
    "duration": 200,
    "start_time": "2023-08-09T15:43:53.121Z"
   },
   {
    "duration": 9,
    "start_time": "2023-08-09T15:46:04.614Z"
   },
   {
    "duration": 124,
    "start_time": "2023-08-09T15:46:50.227Z"
   },
   {
    "duration": 14,
    "start_time": "2023-08-09T15:49:25.659Z"
   },
   {
    "duration": 14,
    "start_time": "2023-08-09T15:57:05.615Z"
   },
   {
    "duration": 13,
    "start_time": "2023-08-09T15:59:58.736Z"
   },
   {
    "duration": 5,
    "start_time": "2023-08-09T16:00:11.901Z"
   },
   {
    "duration": 17,
    "start_time": "2023-08-09T16:00:45.597Z"
   },
   {
    "duration": 14,
    "start_time": "2023-08-09T16:01:20.526Z"
   },
   {
    "duration": 9,
    "start_time": "2023-08-09T16:01:31.773Z"
   },
   {
    "duration": 3,
    "start_time": "2023-08-09T16:05:03.179Z"
   },
   {
    "duration": 45,
    "start_time": "2023-08-09T16:05:03.197Z"
   },
   {
    "duration": 11,
    "start_time": "2023-08-09T16:05:03.244Z"
   },
   {
    "duration": 17,
    "start_time": "2023-08-09T16:05:03.257Z"
   },
   {
    "duration": 29,
    "start_time": "2023-08-09T16:05:03.276Z"
   },
   {
    "duration": 19,
    "start_time": "2023-08-09T16:05:03.307Z"
   },
   {
    "duration": 24,
    "start_time": "2023-08-09T16:05:03.327Z"
   },
   {
    "duration": 15,
    "start_time": "2023-08-09T16:05:03.352Z"
   },
   {
    "duration": 12,
    "start_time": "2023-08-09T16:05:47.882Z"
   },
   {
    "duration": 3,
    "start_time": "2023-08-09T16:25:10.566Z"
   },
   {
    "duration": 50,
    "start_time": "2023-08-09T16:25:10.571Z"
   },
   {
    "duration": 12,
    "start_time": "2023-08-09T16:25:10.623Z"
   },
   {
    "duration": 8,
    "start_time": "2023-08-09T16:25:10.636Z"
   },
   {
    "duration": 15,
    "start_time": "2023-08-09T16:25:10.646Z"
   },
   {
    "duration": 4,
    "start_time": "2023-08-09T16:25:10.663Z"
   },
   {
    "duration": 16,
    "start_time": "2023-08-09T16:25:10.668Z"
   },
   {
    "duration": 11,
    "start_time": "2023-08-09T16:25:10.686Z"
   },
   {
    "duration": 19,
    "start_time": "2023-08-09T16:25:10.698Z"
   },
   {
    "duration": 10,
    "start_time": "2023-08-09T16:25:10.719Z"
   },
   {
    "duration": 25,
    "start_time": "2023-08-09T16:25:29.801Z"
   },
   {
    "duration": 12,
    "start_time": "2023-08-09T16:31:21.336Z"
   },
   {
    "duration": 5,
    "start_time": "2023-08-09T16:31:58.470Z"
   },
   {
    "duration": 201,
    "start_time": "2023-08-09T16:36:26.697Z"
   },
   {
    "duration": 218,
    "start_time": "2023-08-09T16:36:40.544Z"
   },
   {
    "duration": 10,
    "start_time": "2023-08-09T16:38:21.727Z"
   },
   {
    "duration": 60,
    "start_time": "2023-08-09T16:38:31.324Z"
   },
   {
    "duration": 88,
    "start_time": "2023-08-09T16:39:30.473Z"
   },
   {
    "duration": 3,
    "start_time": "2023-08-09T16:42:38.163Z"
   },
   {
    "duration": 39,
    "start_time": "2023-08-09T16:43:16.414Z"
   },
   {
    "duration": 38,
    "start_time": "2023-08-09T16:43:23.060Z"
   },
   {
    "duration": 47,
    "start_time": "2023-08-09T16:46:19.716Z"
   },
   {
    "duration": 1216,
    "start_time": "2023-08-10T13:05:21.504Z"
   },
   {
    "duration": 92,
    "start_time": "2023-08-10T13:05:22.722Z"
   },
   {
    "duration": 16,
    "start_time": "2023-08-10T13:05:22.816Z"
   },
   {
    "duration": 70,
    "start_time": "2023-08-10T13:05:22.833Z"
   },
   {
    "duration": 29,
    "start_time": "2023-08-10T13:05:22.905Z"
   },
   {
    "duration": 44,
    "start_time": "2023-08-10T13:05:22.936Z"
   },
   {
    "duration": 50,
    "start_time": "2023-08-10T13:05:22.982Z"
   },
   {
    "duration": 58,
    "start_time": "2023-08-10T13:05:23.034Z"
   },
   {
    "duration": 25,
    "start_time": "2023-08-10T13:05:23.093Z"
   },
   {
    "duration": 6,
    "start_time": "2023-08-10T13:05:23.120Z"
   },
   {
    "duration": 288,
    "start_time": "2023-08-10T13:05:23.128Z"
   },
   {
    "duration": 59,
    "start_time": "2023-08-10T13:05:23.418Z"
   },
   {
    "duration": 114,
    "start_time": "2023-08-10T13:07:32.171Z"
   },
   {
    "duration": 12,
    "start_time": "2023-08-10T13:08:14.251Z"
   },
   {
    "duration": 4,
    "start_time": "2023-08-10T13:08:25.511Z"
   },
   {
    "duration": 59,
    "start_time": "2023-08-10T13:08:25.516Z"
   },
   {
    "duration": 12,
    "start_time": "2023-08-10T13:08:25.577Z"
   },
   {
    "duration": 24,
    "start_time": "2023-08-10T13:08:25.591Z"
   },
   {
    "duration": 14,
    "start_time": "2023-08-10T13:08:25.617Z"
   },
   {
    "duration": 13,
    "start_time": "2023-08-10T13:08:25.633Z"
   },
   {
    "duration": 19,
    "start_time": "2023-08-10T13:08:25.647Z"
   },
   {
    "duration": 7,
    "start_time": "2023-08-10T13:08:25.668Z"
   },
   {
    "duration": 10,
    "start_time": "2023-08-10T13:08:25.676Z"
   },
   {
    "duration": 6,
    "start_time": "2023-08-10T13:08:25.687Z"
   },
   {
    "duration": 240,
    "start_time": "2023-08-10T13:08:25.695Z"
   },
   {
    "duration": 49,
    "start_time": "2023-08-10T13:08:25.937Z"
   },
   {
    "duration": 8,
    "start_time": "2023-08-10T13:08:25.988Z"
   },
   {
    "duration": 9,
    "start_time": "2023-08-10T13:11:37.691Z"
   },
   {
    "duration": 9,
    "start_time": "2023-08-10T13:12:14.386Z"
   },
   {
    "duration": 101,
    "start_time": "2023-08-10T13:12:53.907Z"
   },
   {
    "duration": 95,
    "start_time": "2023-08-10T13:14:51.632Z"
   },
   {
    "duration": 421,
    "start_time": "2023-08-10T13:14:57.253Z"
   },
   {
    "duration": 4,
    "start_time": "2023-08-10T13:16:44.187Z"
   },
   {
    "duration": 3,
    "start_time": "2023-08-10T13:16:46.697Z"
   },
   {
    "duration": 44,
    "start_time": "2023-08-10T13:16:46.702Z"
   },
   {
    "duration": 17,
    "start_time": "2023-08-10T13:16:46.748Z"
   },
   {
    "duration": 19,
    "start_time": "2023-08-10T13:16:46.766Z"
   },
   {
    "duration": 13,
    "start_time": "2023-08-10T13:16:46.787Z"
   },
   {
    "duration": 9,
    "start_time": "2023-08-10T13:16:46.801Z"
   },
   {
    "duration": 27,
    "start_time": "2023-08-10T13:16:46.811Z"
   },
   {
    "duration": 28,
    "start_time": "2023-08-10T13:16:46.840Z"
   },
   {
    "duration": 25,
    "start_time": "2023-08-10T13:16:46.869Z"
   },
   {
    "duration": 12,
    "start_time": "2023-08-10T13:16:46.895Z"
   },
   {
    "duration": 274,
    "start_time": "2023-08-10T13:16:46.908Z"
   },
   {
    "duration": 43,
    "start_time": "2023-08-10T13:16:47.183Z"
   },
   {
    "duration": 94,
    "start_time": "2023-08-10T13:16:47.227Z"
   },
   {
    "duration": 460,
    "start_time": "2023-08-10T13:16:47.322Z"
   },
   {
    "duration": 87,
    "start_time": "2023-08-10T13:25:24.369Z"
   },
   {
    "duration": 5,
    "start_time": "2023-08-10T13:26:06.258Z"
   },
   {
    "duration": 3,
    "start_time": "2023-08-10T13:33:33.975Z"
   },
   {
    "duration": 41,
    "start_time": "2023-08-10T13:33:33.980Z"
   },
   {
    "duration": 11,
    "start_time": "2023-08-10T13:33:34.022Z"
   },
   {
    "duration": 13,
    "start_time": "2023-08-10T13:33:34.034Z"
   },
   {
    "duration": 38,
    "start_time": "2023-08-10T13:33:34.049Z"
   },
   {
    "duration": 3,
    "start_time": "2023-08-10T13:33:34.089Z"
   },
   {
    "duration": 24,
    "start_time": "2023-08-10T13:33:34.094Z"
   },
   {
    "duration": 12,
    "start_time": "2023-08-10T13:33:34.120Z"
   },
   {
    "duration": 43,
    "start_time": "2023-08-10T13:33:34.134Z"
   },
   {
    "duration": 18,
    "start_time": "2023-08-10T13:33:34.179Z"
   },
   {
    "duration": 258,
    "start_time": "2023-08-10T13:33:34.198Z"
   },
   {
    "duration": 57,
    "start_time": "2023-08-10T13:33:34.458Z"
   },
   {
    "duration": 99,
    "start_time": "2023-08-10T13:33:34.517Z"
   },
   {
    "duration": 512,
    "start_time": "2023-08-10T13:33:34.618Z"
   },
   {
    "duration": 65,
    "start_time": "2023-08-10T13:33:35.131Z"
   },
   {
    "duration": 111,
    "start_time": "2023-08-10T13:33:35.239Z"
   },
   {
    "duration": 4,
    "start_time": "2023-08-10T13:33:50.311Z"
   },
   {
    "duration": 74,
    "start_time": "2023-08-10T13:33:50.317Z"
   },
   {
    "duration": 14,
    "start_time": "2023-08-10T13:33:50.393Z"
   },
   {
    "duration": 12,
    "start_time": "2023-08-10T13:33:50.409Z"
   },
   {
    "duration": 65,
    "start_time": "2023-08-10T13:33:50.422Z"
   },
   {
    "duration": 23,
    "start_time": "2023-08-10T13:33:50.488Z"
   },
   {
    "duration": 21,
    "start_time": "2023-08-10T13:33:50.513Z"
   },
   {
    "duration": 37,
    "start_time": "2023-08-10T13:33:50.536Z"
   },
   {
    "duration": 20,
    "start_time": "2023-08-10T13:33:50.576Z"
   },
   {
    "duration": 16,
    "start_time": "2023-08-10T13:33:50.597Z"
   },
   {
    "duration": 246,
    "start_time": "2023-08-10T13:33:50.615Z"
   },
   {
    "duration": 44,
    "start_time": "2023-08-10T13:33:50.868Z"
   },
   {
    "duration": 86,
    "start_time": "2023-08-10T13:33:50.914Z"
   },
   {
    "duration": 453,
    "start_time": "2023-08-10T13:33:51.003Z"
   },
   {
    "duration": 88,
    "start_time": "2023-08-10T13:33:51.457Z"
   },
   {
    "duration": 15,
    "start_time": "2023-08-10T13:33:51.546Z"
   },
   {
    "duration": 7,
    "start_time": "2023-08-10T13:37:47.186Z"
   },
   {
    "duration": 68,
    "start_time": "2023-08-10T13:39:18.461Z"
   },
   {
    "duration": 7,
    "start_time": "2023-08-10T13:39:34.514Z"
   },
   {
    "duration": 1440,
    "start_time": "2023-08-10T14:48:26.161Z"
   },
   {
    "duration": 78,
    "start_time": "2023-08-10T14:48:35.641Z"
   },
   {
    "duration": 87,
    "start_time": "2023-08-10T14:56:50.719Z"
   },
   {
    "duration": 541,
    "start_time": "2023-08-10T14:56:51.381Z"
   },
   {
    "duration": 89,
    "start_time": "2023-08-10T14:56:51.924Z"
   },
   {
    "duration": 5,
    "start_time": "2023-08-10T14:58:57.713Z"
   },
   {
    "duration": 74,
    "start_time": "2023-08-10T14:58:58.698Z"
   },
   {
    "duration": 8,
    "start_time": "2023-08-10T14:58:59.507Z"
   },
   {
    "duration": 1401,
    "start_time": "2023-08-10T15:01:21.313Z"
   },
   {
    "duration": 68,
    "start_time": "2023-08-10T15:01:22.716Z"
   },
   {
    "duration": 143,
    "start_time": "2023-08-10T15:06:14.872Z"
   },
   {
    "duration": 89,
    "start_time": "2023-08-10T15:06:59.869Z"
   },
   {
    "duration": 645,
    "start_time": "2023-08-10T15:07:00.435Z"
   },
   {
    "duration": 1382,
    "start_time": "2023-08-10T15:08:12.133Z"
   },
   {
    "duration": 9,
    "start_time": "2023-08-10T15:08:22.783Z"
   },
   {
    "duration": 52,
    "start_time": "2023-08-10T15:10:51.491Z"
   },
   {
    "duration": 127,
    "start_time": "2023-08-10T15:10:51.555Z"
   },
   {
    "duration": 40,
    "start_time": "2023-08-10T15:10:51.683Z"
   },
   {
    "duration": 59,
    "start_time": "2023-08-10T15:10:51.725Z"
   },
   {
    "duration": 18,
    "start_time": "2023-08-10T15:10:51.785Z"
   },
   {
    "duration": 158,
    "start_time": "2023-08-10T15:10:51.806Z"
   },
   {
    "duration": 54,
    "start_time": "2023-08-10T15:10:51.971Z"
   },
   {
    "duration": 73,
    "start_time": "2023-08-10T15:10:52.028Z"
   },
   {
    "duration": 85,
    "start_time": "2023-08-10T15:10:52.103Z"
   },
   {
    "duration": 55,
    "start_time": "2023-08-10T15:10:52.190Z"
   },
   {
    "duration": 289,
    "start_time": "2023-08-10T15:10:52.247Z"
   },
   {
    "duration": 63,
    "start_time": "2023-08-10T15:10:52.546Z"
   },
   {
    "duration": 115,
    "start_time": "2023-08-10T15:10:52.611Z"
   },
   {
    "duration": 476,
    "start_time": "2023-08-10T15:10:52.728Z"
   },
   {
    "duration": 64,
    "start_time": "2023-08-10T15:10:53.207Z"
   },
   {
    "duration": 79,
    "start_time": "2023-08-10T15:10:53.276Z"
   },
   {
    "duration": 90,
    "start_time": "2023-08-10T15:10:53.362Z"
   },
   {
    "duration": 143,
    "start_time": "2023-08-10T15:10:53.461Z"
   },
   {
    "duration": 11,
    "start_time": "2023-08-10T15:10:53.609Z"
   },
   {
    "duration": 1386,
    "start_time": "2023-08-10T15:10:53.622Z"
   },
   {
    "duration": 87,
    "start_time": "2023-08-10T15:10:55.011Z"
   },
   {
    "duration": 85,
    "start_time": "2023-08-10T15:10:55.100Z"
   },
   {
    "duration": 490,
    "start_time": "2023-08-10T15:10:55.186Z"
   },
   {
    "duration": 97,
    "start_time": "2023-08-10T15:10:55.684Z"
   },
   {
    "duration": 1185,
    "start_time": "2023-08-10T15:10:57.207Z"
   },
   {
    "duration": 40,
    "start_time": "2023-08-10T15:10:58.394Z"
   },
   {
    "duration": 33,
    "start_time": "2023-08-10T15:10:58.435Z"
   },
   {
    "duration": 33,
    "start_time": "2023-08-10T15:10:58.469Z"
   },
   {
    "duration": 15,
    "start_time": "2023-08-10T15:10:58.504Z"
   },
   {
    "duration": 3,
    "start_time": "2023-08-10T15:10:58.521Z"
   },
   {
    "duration": 30,
    "start_time": "2023-08-10T15:10:58.526Z"
   },
   {
    "duration": 36,
    "start_time": "2023-08-10T15:10:58.557Z"
   },
   {
    "duration": 12,
    "start_time": "2023-08-10T15:10:58.595Z"
   },
   {
    "duration": 10,
    "start_time": "2023-08-10T15:10:58.609Z"
   },
   {
    "duration": 279,
    "start_time": "2023-08-10T15:10:58.620Z"
   },
   {
    "duration": 61,
    "start_time": "2023-08-10T15:10:58.903Z"
   },
   {
    "duration": 147,
    "start_time": "2023-08-10T15:10:58.967Z"
   },
   {
    "duration": 531,
    "start_time": "2023-08-10T15:10:59.118Z"
   },
   {
    "duration": 52,
    "start_time": "2023-08-10T15:10:59.650Z"
   },
   {
    "duration": 93,
    "start_time": "2023-08-10T15:10:59.706Z"
   },
   {
    "duration": 99,
    "start_time": "2023-08-10T15:10:59.800Z"
   },
   {
    "duration": 98,
    "start_time": "2023-08-10T15:10:59.901Z"
   },
   {
    "duration": 9,
    "start_time": "2023-08-10T15:11:00.000Z"
   },
   {
    "duration": 1390,
    "start_time": "2023-08-10T15:11:00.011Z"
   },
   {
    "duration": 69,
    "start_time": "2023-08-10T15:11:01.403Z"
   },
   {
    "duration": 89,
    "start_time": "2023-08-10T15:11:01.473Z"
   },
   {
    "duration": 533,
    "start_time": "2023-08-10T15:11:01.568Z"
   },
   {
    "duration": 82,
    "start_time": "2023-08-10T15:11:02.103Z"
   },
   {
    "duration": 58,
    "start_time": "2023-08-10T15:11:02.187Z"
   },
   {
    "duration": 158,
    "start_time": "2023-08-10T15:11:02.247Z"
   },
   {
    "duration": 8,
    "start_time": "2023-08-10T15:11:02.407Z"
   },
   {
    "duration": 1317,
    "start_time": "2023-08-10T15:11:02.417Z"
   },
   {
    "duration": 84,
    "start_time": "2023-08-10T15:11:03.735Z"
   },
   {
    "duration": 103,
    "start_time": "2023-08-10T15:11:03.821Z"
   },
   {
    "duration": 616,
    "start_time": "2023-08-10T15:11:03.926Z"
   },
   {
    "duration": 19,
    "start_time": "2023-08-10T15:11:04.552Z"
   },
   {
    "duration": 4,
    "start_time": "2023-08-10T15:13:57.521Z"
   },
   {
    "duration": 139,
    "start_time": "2023-08-10T15:13:57.527Z"
   },
   {
    "duration": 25,
    "start_time": "2023-08-10T15:13:57.680Z"
   },
   {
    "duration": 9,
    "start_time": "2023-08-10T15:13:57.708Z"
   },
   {
    "duration": 16,
    "start_time": "2023-08-10T15:13:57.719Z"
   },
   {
    "duration": 59,
    "start_time": "2023-08-10T15:13:57.737Z"
   },
   {
    "duration": 26,
    "start_time": "2023-08-10T15:13:57.799Z"
   },
   {
    "duration": 32,
    "start_time": "2023-08-10T15:13:57.828Z"
   },
   {
    "duration": 29,
    "start_time": "2023-08-10T15:13:57.867Z"
   },
   {
    "duration": 6,
    "start_time": "2023-08-10T15:13:57.905Z"
   },
   {
    "duration": 269,
    "start_time": "2023-08-10T15:13:57.913Z"
   },
   {
    "duration": 64,
    "start_time": "2023-08-10T15:13:58.188Z"
   },
   {
    "duration": 97,
    "start_time": "2023-08-10T15:13:58.256Z"
   },
   {
    "duration": 495,
    "start_time": "2023-08-10T15:13:58.361Z"
   },
   {
    "duration": 55,
    "start_time": "2023-08-10T15:13:58.860Z"
   },
   {
    "duration": 28,
    "start_time": "2023-08-10T15:13:58.946Z"
   },
   {
    "duration": 118,
    "start_time": "2023-08-10T15:13:58.984Z"
   },
   {
    "duration": 102,
    "start_time": "2023-08-10T15:13:59.104Z"
   },
   {
    "duration": 16,
    "start_time": "2023-08-10T15:13:59.211Z"
   },
   {
    "duration": 1546,
    "start_time": "2023-08-10T15:13:59.230Z"
   },
   {
    "duration": 63,
    "start_time": "2023-08-10T15:14:00.783Z"
   },
   {
    "duration": 101,
    "start_time": "2023-08-10T15:14:00.847Z"
   },
   {
    "duration": 528,
    "start_time": "2023-08-10T15:14:00.952Z"
   },
   {
    "duration": 64,
    "start_time": "2023-08-10T15:14:01.481Z"
   },
   {
    "duration": 115,
    "start_time": "2023-08-10T15:14:01.552Z"
   },
   {
    "duration": 169,
    "start_time": "2023-08-10T15:14:01.669Z"
   },
   {
    "duration": 57,
    "start_time": "2023-08-10T15:14:01.841Z"
   },
   {
    "duration": 1623,
    "start_time": "2023-08-10T15:14:01.906Z"
   },
   {
    "duration": 99,
    "start_time": "2023-08-10T15:14:03.531Z"
   },
   {
    "duration": 94,
    "start_time": "2023-08-10T15:14:03.632Z"
   },
   {
    "duration": 236,
    "start_time": "2023-08-10T15:14:03.728Z"
   },
   {
    "duration": 1500,
    "start_time": "2023-08-10T15:14:03.972Z"
   },
   {
    "duration": 110,
    "start_time": "2023-08-10T15:15:36.396Z"
   },
   {
    "duration": 304,
    "start_time": "2023-08-10T15:15:37.180Z"
   },
   {
    "duration": 112,
    "start_time": "2023-08-10T15:16:00.815Z"
   },
   {
    "duration": 816,
    "start_time": "2023-08-10T15:17:45.612Z"
   },
   {
    "duration": 9,
    "start_time": "2023-08-10T15:18:25.455Z"
   },
   {
    "duration": 66,
    "start_time": "2023-08-10T15:18:25.465Z"
   },
   {
    "duration": 39,
    "start_time": "2023-08-10T15:18:25.533Z"
   },
   {
    "duration": 32,
    "start_time": "2023-08-10T15:18:25.573Z"
   },
   {
    "duration": 21,
    "start_time": "2023-08-10T15:18:25.607Z"
   },
   {
    "duration": 6,
    "start_time": "2023-08-10T15:18:25.630Z"
   },
   {
    "duration": 46,
    "start_time": "2023-08-10T15:18:25.656Z"
   },
   {
    "duration": 15,
    "start_time": "2023-08-10T15:18:25.704Z"
   },
   {
    "duration": 38,
    "start_time": "2023-08-10T15:18:25.720Z"
   },
   {
    "duration": 43,
    "start_time": "2023-08-10T15:18:25.759Z"
   },
   {
    "duration": 233,
    "start_time": "2023-08-10T15:18:25.804Z"
   },
   {
    "duration": 74,
    "start_time": "2023-08-10T15:18:26.049Z"
   },
   {
    "duration": 96,
    "start_time": "2023-08-10T15:18:26.124Z"
   },
   {
    "duration": 469,
    "start_time": "2023-08-10T15:18:26.223Z"
   },
   {
    "duration": 99,
    "start_time": "2023-08-10T15:18:26.697Z"
   },
   {
    "duration": 17,
    "start_time": "2023-08-10T15:18:26.843Z"
   },
   {
    "duration": 54,
    "start_time": "2023-08-10T15:18:26.861Z"
   },
   {
    "duration": 114,
    "start_time": "2023-08-10T15:18:26.916Z"
   },
   {
    "duration": 22,
    "start_time": "2023-08-10T15:18:27.033Z"
   },
   {
    "duration": 1305,
    "start_time": "2023-08-10T15:18:27.060Z"
   },
   {
    "duration": 64,
    "start_time": "2023-08-10T15:18:28.370Z"
   },
   {
    "duration": 139,
    "start_time": "2023-08-10T15:18:28.435Z"
   },
   {
    "duration": 513,
    "start_time": "2023-08-10T15:18:28.584Z"
   },
   {
    "duration": 160,
    "start_time": "2023-08-10T15:18:29.099Z"
   },
   {
    "duration": 20,
    "start_time": "2023-08-10T15:18:29.260Z"
   },
   {
    "duration": 105,
    "start_time": "2023-08-10T15:18:29.288Z"
   },
   {
    "duration": 7,
    "start_time": "2023-08-10T15:18:29.399Z"
   },
   {
    "duration": 1300,
    "start_time": "2023-08-10T15:18:29.408Z"
   },
   {
    "duration": 79,
    "start_time": "2023-08-10T15:18:30.710Z"
   },
   {
    "duration": 115,
    "start_time": "2023-08-10T15:18:30.790Z"
   },
   {
    "duration": 257,
    "start_time": "2023-08-10T15:18:30.907Z"
   },
   {
    "duration": 1301,
    "start_time": "2023-08-10T15:18:31.172Z"
   },
   {
    "duration": 185,
    "start_time": "2023-08-10T15:18:32.483Z"
   },
   {
    "duration": 211,
    "start_time": "2023-08-10T15:18:32.673Z"
   },
   {
    "duration": 802,
    "start_time": "2023-08-10T15:18:32.891Z"
   },
   {
    "duration": 45,
    "start_time": "2023-08-10T15:22:47.189Z"
   },
   {
    "duration": 131,
    "start_time": "2023-08-10T15:24:40.069Z"
   },
   {
    "duration": 863,
    "start_time": "2023-08-10T15:25:21.933Z"
   },
   {
    "duration": 1367,
    "start_time": "2023-08-10T15:28:05.733Z"
   },
   {
    "duration": 673,
    "start_time": "2023-08-10T15:28:48.698Z"
   },
   {
    "duration": 9,
    "start_time": "2023-08-10T15:31:09.523Z"
   },
   {
    "duration": 1599,
    "start_time": "2023-08-10T15:31:11.698Z"
   },
   {
    "duration": 1502,
    "start_time": "2023-08-10T15:31:25.416Z"
   },
   {
    "duration": 1359,
    "start_time": "2023-08-10T18:13:14.076Z"
   },
   {
    "duration": 481,
    "start_time": "2023-08-10T18:13:15.438Z"
   },
   {
    "duration": 15,
    "start_time": "2023-08-10T18:13:15.921Z"
   },
   {
    "duration": 16,
    "start_time": "2023-08-10T18:13:15.938Z"
   },
   {
    "duration": 23,
    "start_time": "2023-08-10T18:13:15.956Z"
   },
   {
    "duration": 9,
    "start_time": "2023-08-10T18:13:15.981Z"
   },
   {
    "duration": 22,
    "start_time": "2023-08-10T18:13:15.996Z"
   },
   {
    "duration": 12,
    "start_time": "2023-08-10T18:13:16.020Z"
   },
   {
    "duration": 37,
    "start_time": "2023-08-10T18:13:16.034Z"
   },
   {
    "duration": 9,
    "start_time": "2023-08-10T18:13:16.082Z"
   },
   {
    "duration": 226,
    "start_time": "2023-08-10T18:13:16.093Z"
   },
   {
    "duration": 74,
    "start_time": "2023-08-10T18:13:16.322Z"
   },
   {
    "duration": 143,
    "start_time": "2023-08-10T18:13:16.398Z"
   },
   {
    "duration": 506,
    "start_time": "2023-08-10T18:13:16.543Z"
   },
   {
    "duration": 109,
    "start_time": "2023-08-10T18:13:17.051Z"
   },
   {
    "duration": 82,
    "start_time": "2023-08-10T18:13:17.176Z"
   },
   {
    "duration": 13,
    "start_time": "2023-08-10T18:13:17.260Z"
   },
   {
    "duration": 112,
    "start_time": "2023-08-10T18:13:17.277Z"
   },
   {
    "duration": 14,
    "start_time": "2023-08-10T18:13:17.395Z"
   },
   {
    "duration": 1237,
    "start_time": "2023-08-10T18:13:17.411Z"
   },
   {
    "duration": 88,
    "start_time": "2023-08-10T18:13:18.651Z"
   },
   {
    "duration": 104,
    "start_time": "2023-08-10T18:13:18.741Z"
   },
   {
    "duration": 612,
    "start_time": "2023-08-10T18:13:18.847Z"
   },
   {
    "duration": 103,
    "start_time": "2023-08-10T18:13:19.461Z"
   },
   {
    "duration": 21,
    "start_time": "2023-08-10T18:13:19.566Z"
   },
   {
    "duration": 150,
    "start_time": "2023-08-10T18:13:19.588Z"
   },
   {
    "duration": 11,
    "start_time": "2023-08-10T18:13:19.741Z"
   },
   {
    "duration": 1209,
    "start_time": "2023-08-10T18:13:19.757Z"
   },
   {
    "duration": 73,
    "start_time": "2023-08-10T18:13:20.967Z"
   },
   {
    "duration": 117,
    "start_time": "2023-08-10T18:13:21.042Z"
   },
   {
    "duration": 245,
    "start_time": "2023-08-10T18:13:21.166Z"
   },
   {
    "duration": 1490,
    "start_time": "2023-08-10T18:13:21.413Z"
   },
   {
    "duration": 226,
    "start_time": "2023-08-10T18:13:22.904Z"
   },
   {
    "duration": 241,
    "start_time": "2023-08-10T18:13:23.132Z"
   },
   {
    "duration": 17,
    "start_time": "2023-08-10T18:13:23.377Z"
   },
   {
    "duration": 1468,
    "start_time": "2023-08-10T18:13:23.397Z"
   },
   {
    "duration": 145,
    "start_time": "2023-08-10T18:14:44.424Z"
   },
   {
    "duration": 324,
    "start_time": "2023-08-10T18:14:50.005Z"
   },
   {
    "duration": 672,
    "start_time": "2023-08-10T18:14:54.732Z"
   },
   {
    "duration": 1401,
    "start_time": "2023-08-10T18:14:59.085Z"
   },
   {
    "duration": 165,
    "start_time": "2023-08-10T18:16:27.235Z"
   },
   {
    "duration": 1295,
    "start_time": "2023-08-10T18:16:47.891Z"
   },
   {
    "duration": 1290,
    "start_time": "2023-08-10T18:16:54.916Z"
   },
   {
    "duration": 674,
    "start_time": "2023-08-10T18:17:54.740Z"
   },
   {
    "duration": 351,
    "start_time": "2023-08-10T18:17:58.515Z"
   },
   {
    "duration": 413,
    "start_time": "2023-08-10T18:18:02.289Z"
   },
   {
    "duration": 1012,
    "start_time": "2023-08-10T18:18:07.727Z"
   },
   {
    "duration": 1268,
    "start_time": "2023-08-10T18:18:12.995Z"
   },
   {
    "duration": 1291,
    "start_time": "2023-08-10T18:18:17.705Z"
   },
   {
    "duration": 1310,
    "start_time": "2023-08-10T18:18:22.878Z"
   },
   {
    "duration": 1310,
    "start_time": "2023-08-10T18:18:30.919Z"
   },
   {
    "duration": 1392,
    "start_time": "2023-08-10T18:18:35.607Z"
   },
   {
    "duration": 1325,
    "start_time": "2023-08-10T18:18:41.693Z"
   },
   {
    "duration": 1289,
    "start_time": "2023-08-10T18:18:46.712Z"
   },
   {
    "duration": 1989,
    "start_time": "2023-08-10T18:18:58.184Z"
   },
   {
    "duration": 1279,
    "start_time": "2023-08-10T18:19:04.422Z"
   },
   {
    "duration": 1431,
    "start_time": "2023-08-10T18:21:38.523Z"
   },
   {
    "duration": 1318,
    "start_time": "2023-08-10T18:21:43.692Z"
   },
   {
    "duration": 1412,
    "start_time": "2023-08-10T18:21:48.371Z"
   },
   {
    "duration": 1389,
    "start_time": "2023-08-10T18:21:52.604Z"
   },
   {
    "duration": 1301,
    "start_time": "2023-08-10T18:21:56.414Z"
   },
   {
    "duration": 1310,
    "start_time": "2023-08-10T18:22:00.411Z"
   },
   {
    "duration": 1258,
    "start_time": "2023-08-10T18:22:05.135Z"
   },
   {
    "duration": 1304,
    "start_time": "2023-08-10T18:22:09.899Z"
   },
   {
    "duration": 1581,
    "start_time": "2023-08-10T18:27:18.680Z"
   },
   {
    "duration": 9,
    "start_time": "2023-08-10T18:30:06.825Z"
   },
   {
    "duration": 6,
    "start_time": "2023-08-10T18:30:43.689Z"
   },
   {
    "duration": 7,
    "start_time": "2023-08-10T18:31:10.334Z"
   },
   {
    "duration": 5,
    "start_time": "2023-08-10T18:31:10.792Z"
   },
   {
    "duration": 7,
    "start_time": "2023-08-10T18:31:32.636Z"
   },
   {
    "duration": 6,
    "start_time": "2023-08-10T18:31:33.006Z"
   },
   {
    "duration": 8,
    "start_time": "2023-08-10T18:31:33.319Z"
   },
   {
    "duration": 5,
    "start_time": "2023-08-10T18:31:42.504Z"
   },
   {
    "duration": 7,
    "start_time": "2023-08-10T18:32:59.878Z"
   },
   {
    "duration": 26,
    "start_time": "2023-08-10T18:34:29.408Z"
   },
   {
    "duration": 6,
    "start_time": "2023-08-10T18:35:56.905Z"
   },
   {
    "duration": 6,
    "start_time": "2023-08-10T18:35:57.498Z"
   },
   {
    "duration": 7,
    "start_time": "2023-08-10T18:35:58.075Z"
   },
   {
    "duration": 6,
    "start_time": "2023-08-10T18:35:59.283Z"
   },
   {
    "duration": 10,
    "start_time": "2023-08-10T18:36:01.765Z"
   },
   {
    "duration": 965,
    "start_time": "2023-08-10T18:36:02.625Z"
   },
   {
    "duration": 67,
    "start_time": "2023-08-10T18:37:20.026Z"
   },
   {
    "duration": 59,
    "start_time": "2023-08-10T18:37:50.787Z"
   },
   {
    "duration": 989,
    "start_time": "2023-08-10T18:38:23.609Z"
   },
   {
    "duration": 57,
    "start_time": "2023-08-10T18:38:26.186Z"
   },
   {
    "duration": 984,
    "start_time": "2023-08-10T18:38:32.619Z"
   },
   {
    "duration": 70,
    "start_time": "2023-08-10T18:38:33.606Z"
   },
   {
    "duration": 1236,
    "start_time": "2023-08-11T09:58:28.370Z"
   },
   {
    "duration": 151,
    "start_time": "2023-08-11T09:58:32.164Z"
   },
   {
    "duration": 161,
    "start_time": "2023-08-11T09:58:48.490Z"
   },
   {
    "duration": 13,
    "start_time": "2023-08-11T09:58:50.285Z"
   },
   {
    "duration": 12,
    "start_time": "2023-08-11T09:58:51.119Z"
   },
   {
    "duration": 16,
    "start_time": "2023-08-11T09:58:54.870Z"
   },
   {
    "duration": 6,
    "start_time": "2023-08-11T09:58:57.292Z"
   },
   {
    "duration": 9,
    "start_time": "2023-08-11T09:59:07.255Z"
   },
   {
    "duration": 7,
    "start_time": "2023-08-11T10:07:17.469Z"
   },
   {
    "duration": 28,
    "start_time": "2023-08-11T10:07:24.386Z"
   },
   {
    "duration": 13,
    "start_time": "2023-08-11T10:22:31.066Z"
   },
   {
    "duration": 4,
    "start_time": "2023-08-11T10:28:50.296Z"
   },
   {
    "duration": 43,
    "start_time": "2023-08-11T10:28:52.333Z"
   },
   {
    "duration": 12,
    "start_time": "2023-08-11T10:28:53.116Z"
   },
   {
    "duration": 7,
    "start_time": "2023-08-11T10:28:53.984Z"
   },
   {
    "duration": 13,
    "start_time": "2023-08-11T10:28:59.700Z"
   },
   {
    "duration": 4,
    "start_time": "2023-08-11T10:29:03.190Z"
   },
   {
    "duration": 7,
    "start_time": "2023-08-11T10:29:03.603Z"
   },
   {
    "duration": 16,
    "start_time": "2023-08-11T10:29:07.202Z"
   },
   {
    "duration": 11,
    "start_time": "2023-08-11T10:29:09.049Z"
   },
   {
    "duration": 12,
    "start_time": "2023-08-11T10:29:11.259Z"
   },
   {
    "duration": 5,
    "start_time": "2023-08-11T10:29:13.055Z"
   },
   {
    "duration": 7,
    "start_time": "2023-08-11T10:29:14.192Z"
   },
   {
    "duration": 18,
    "start_time": "2023-08-11T10:29:14.636Z"
   },
   {
    "duration": 11,
    "start_time": "2023-08-11T10:29:19.442Z"
   },
   {
    "duration": 6,
    "start_time": "2023-08-11T10:29:22.462Z"
   },
   {
    "duration": 9,
    "start_time": "2023-08-11T10:31:54.760Z"
   },
   {
    "duration": 7,
    "start_time": "2023-08-11T10:32:27.950Z"
   },
   {
    "duration": 6,
    "start_time": "2023-08-11T10:33:34.929Z"
   },
   {
    "duration": 7,
    "start_time": "2023-08-11T10:33:37.253Z"
   },
   {
    "duration": 9,
    "start_time": "2023-08-11T10:34:15.950Z"
   },
   {
    "duration": 17,
    "start_time": "2023-08-11T10:35:43.854Z"
   },
   {
    "duration": 5,
    "start_time": "2023-08-11T10:36:06.180Z"
   },
   {
    "duration": 6,
    "start_time": "2023-08-11T10:36:06.854Z"
   },
   {
    "duration": 5,
    "start_time": "2023-08-11T10:40:35.559Z"
   },
   {
    "duration": 48,
    "start_time": "2023-08-11T10:40:38.133Z"
   },
   {
    "duration": 20,
    "start_time": "2023-08-11T10:40:38.410Z"
   },
   {
    "duration": 9,
    "start_time": "2023-08-11T10:40:38.654Z"
   },
   {
    "duration": 13,
    "start_time": "2023-08-11T10:40:39.124Z"
   },
   {
    "duration": 4,
    "start_time": "2023-08-11T10:40:39.598Z"
   },
   {
    "duration": 8,
    "start_time": "2023-08-11T10:40:39.883Z"
   },
   {
    "duration": 12,
    "start_time": "2023-08-11T10:40:41.424Z"
   },
   {
    "duration": 11,
    "start_time": "2023-08-11T10:40:41.865Z"
   },
   {
    "duration": 13,
    "start_time": "2023-08-11T10:40:42.096Z"
   },
   {
    "duration": 4,
    "start_time": "2023-08-11T10:40:42.284Z"
   },
   {
    "duration": 8,
    "start_time": "2023-08-11T10:40:42.483Z"
   },
   {
    "duration": 19,
    "start_time": "2023-08-11T10:40:42.691Z"
   },
   {
    "duration": 12,
    "start_time": "2023-08-11T10:40:46.808Z"
   },
   {
    "duration": 7,
    "start_time": "2023-08-11T10:40:50.179Z"
   },
   {
    "duration": 7,
    "start_time": "2023-08-11T10:40:50.504Z"
   },
   {
    "duration": 11,
    "start_time": "2023-08-11T10:40:50.778Z"
   },
   {
    "duration": 12,
    "start_time": "2023-08-11T10:40:54.168Z"
   },
   {
    "duration": 4,
    "start_time": "2023-08-11T10:40:54.470Z"
   },
   {
    "duration": 6,
    "start_time": "2023-08-11T10:40:54.762Z"
   },
   {
    "duration": 12,
    "start_time": "2023-08-11T10:42:36.610Z"
   },
   {
    "duration": 1634,
    "start_time": "2023-08-11T10:43:51.007Z"
   },
   {
    "duration": 1786,
    "start_time": "2023-08-11T10:45:13.708Z"
   },
   {
    "duration": 21,
    "start_time": "2023-08-11T10:48:22.906Z"
   },
   {
    "duration": 1551,
    "start_time": "2023-08-11T11:08:01.061Z"
   },
   {
    "duration": 44,
    "start_time": "2023-08-11T11:08:06.565Z"
   },
   {
    "duration": 27,
    "start_time": "2023-08-11T11:08:07.165Z"
   },
   {
    "duration": 13,
    "start_time": "2023-08-11T11:08:07.528Z"
   },
   {
    "duration": 15,
    "start_time": "2023-08-11T11:08:08.776Z"
   },
   {
    "duration": 5,
    "start_time": "2023-08-11T11:08:09.213Z"
   },
   {
    "duration": 16,
    "start_time": "2023-08-11T11:08:11.463Z"
   },
   {
    "duration": 14,
    "start_time": "2023-08-11T11:08:14.565Z"
   },
   {
    "duration": 8,
    "start_time": "2023-08-11T11:08:15.458Z"
   },
   {
    "duration": 11,
    "start_time": "2023-08-11T11:08:17.313Z"
   },
   {
    "duration": 4,
    "start_time": "2023-08-11T11:08:17.686Z"
   },
   {
    "duration": 8,
    "start_time": "2023-08-11T11:08:19.368Z"
   },
   {
    "duration": 19,
    "start_time": "2023-08-11T11:08:19.722Z"
   },
   {
    "duration": 12,
    "start_time": "2023-08-11T11:08:26.705Z"
   },
   {
    "duration": 7,
    "start_time": "2023-08-11T11:08:27.165Z"
   },
   {
    "duration": 8,
    "start_time": "2023-08-11T11:08:28.687Z"
   },
   {
    "duration": 13,
    "start_time": "2023-08-11T11:08:28.990Z"
   },
   {
    "duration": 13,
    "start_time": "2023-08-11T11:08:31.117Z"
   },
   {
    "duration": 4,
    "start_time": "2023-08-11T11:08:31.490Z"
   },
   {
    "duration": 6,
    "start_time": "2023-08-11T11:08:31.792Z"
   },
   {
    "duration": 1606,
    "start_time": "2023-08-11T11:08:37.183Z"
   },
   {
    "duration": 18,
    "start_time": "2023-08-11T11:08:43.769Z"
   },
   {
    "duration": 56088,
    "start_time": "2023-08-11T11:08:45.728Z"
   },
   {
    "duration": 970,
    "start_time": "2023-08-11T11:14:38.912Z"
   },
   {
    "duration": 18,
    "start_time": "2023-08-11T11:14:44.638Z"
   },
   {
    "duration": 29,
    "start_time": "2023-08-11T11:17:47.333Z"
   },
   {
    "duration": 1783,
    "start_time": "2023-08-11T11:20:37.004Z"
   },
   {
    "duration": 1551,
    "start_time": "2023-08-11T11:21:25.594Z"
   },
   {
    "duration": 1988,
    "start_time": "2023-08-11T11:22:00.208Z"
   },
   {
    "duration": 27,
    "start_time": "2023-08-11T11:25:56.171Z"
   },
   {
    "duration": 28,
    "start_time": "2023-08-11T11:26:22.287Z"
   },
   {
    "duration": 1074,
    "start_time": "2023-08-14T08:14:54.304Z"
   },
   {
    "duration": 92,
    "start_time": "2023-08-14T08:14:55.379Z"
   },
   {
    "duration": 12,
    "start_time": "2023-08-14T08:14:55.472Z"
   },
   {
    "duration": 47,
    "start_time": "2023-08-14T08:14:55.486Z"
   },
   {
    "duration": 13,
    "start_time": "2023-08-14T08:14:55.535Z"
   },
   {
    "duration": 9,
    "start_time": "2023-08-14T08:14:55.550Z"
   },
   {
    "duration": 21,
    "start_time": "2023-08-14T08:14:55.560Z"
   },
   {
    "duration": 18,
    "start_time": "2023-08-14T08:14:55.582Z"
   },
   {
    "duration": 8,
    "start_time": "2023-08-14T08:14:55.601Z"
   },
   {
    "duration": 9,
    "start_time": "2023-08-14T08:14:55.610Z"
   },
   {
    "duration": 7,
    "start_time": "2023-08-14T08:14:55.621Z"
   },
   {
    "duration": 24,
    "start_time": "2023-08-14T08:14:55.629Z"
   },
   {
    "duration": 31,
    "start_time": "2023-08-14T08:14:55.655Z"
   },
   {
    "duration": 9,
    "start_time": "2023-08-14T08:14:55.689Z"
   },
   {
    "duration": 9,
    "start_time": "2023-08-14T08:14:55.699Z"
   },
   {
    "duration": 46,
    "start_time": "2023-08-14T08:14:55.709Z"
   },
   {
    "duration": 21,
    "start_time": "2023-08-14T08:14:55.756Z"
   },
   {
    "duration": 22,
    "start_time": "2023-08-14T08:14:55.779Z"
   },
   {
    "duration": 13,
    "start_time": "2023-08-14T08:14:55.802Z"
   },
   {
    "duration": 144,
    "start_time": "2023-08-14T08:14:55.816Z"
   },
   {
    "duration": 1824,
    "start_time": "2023-08-14T08:14:55.961Z"
   },
   {
    "duration": 17,
    "start_time": "2023-08-14T08:14:57.787Z"
   },
   {
    "duration": 57427,
    "start_time": "2023-08-14T08:14:57.805Z"
   },
   {
    "duration": 1019,
    "start_time": "2023-08-14T08:15:55.234Z"
   },
   {
    "duration": 6981,
    "start_time": "2023-08-14T08:21:40.331Z"
   },
   {
    "duration": 127,
    "start_time": "2023-08-14T08:22:10.028Z"
   },
   {
    "duration": 3,
    "start_time": "2023-08-14T08:22:22.563Z"
   },
   {
    "duration": 2245,
    "start_time": "2023-08-14T08:22:33.037Z"
   },
   {
    "duration": 2841,
    "start_time": "2023-08-14T08:24:03.484Z"
   },
   {
    "duration": 2101,
    "start_time": "2023-08-14T08:24:25.561Z"
   },
   {
    "duration": 161,
    "start_time": "2023-08-14T08:24:27.664Z"
   },
   {
    "duration": 48,
    "start_time": "2023-08-14T08:24:27.827Z"
   },
   {
    "duration": 12,
    "start_time": "2023-08-14T08:24:27.877Z"
   },
   {
    "duration": 10,
    "start_time": "2023-08-14T08:24:27.891Z"
   },
   {
    "duration": 18,
    "start_time": "2023-08-14T08:24:27.903Z"
   },
   {
    "duration": 28,
    "start_time": "2023-08-14T08:24:27.923Z"
   },
   {
    "duration": 20,
    "start_time": "2023-08-14T08:24:27.953Z"
   },
   {
    "duration": 19,
    "start_time": "2023-08-14T08:24:27.974Z"
   },
   {
    "duration": 11,
    "start_time": "2023-08-14T08:24:27.996Z"
   },
   {
    "duration": 11,
    "start_time": "2023-08-14T08:24:28.009Z"
   },
   {
    "duration": 3,
    "start_time": "2023-08-14T08:24:28.022Z"
   },
   {
    "duration": 30,
    "start_time": "2023-08-14T08:24:28.026Z"
   },
   {
    "duration": 19,
    "start_time": "2023-08-14T08:24:28.058Z"
   },
   {
    "duration": 11,
    "start_time": "2023-08-14T08:24:28.079Z"
   },
   {
    "duration": 7,
    "start_time": "2023-08-14T08:24:28.092Z"
   },
   {
    "duration": 25,
    "start_time": "2023-08-14T08:24:28.101Z"
   },
   {
    "duration": 24,
    "start_time": "2023-08-14T08:24:28.128Z"
   },
   {
    "duration": 13,
    "start_time": "2023-08-14T08:24:28.154Z"
   },
   {
    "duration": 12,
    "start_time": "2023-08-14T08:24:28.168Z"
   },
   {
    "duration": 178,
    "start_time": "2023-08-14T08:24:28.181Z"
   },
   {
    "duration": 2044,
    "start_time": "2023-08-14T08:24:28.361Z"
   },
   {
    "duration": 22,
    "start_time": "2023-08-14T08:24:30.406Z"
   },
   {
    "duration": 66861,
    "start_time": "2023-08-14T08:24:30.448Z"
   },
   {
    "duration": 1151,
    "start_time": "2023-08-14T08:25:37.311Z"
   },
   {
    "duration": 16,
    "start_time": "2023-08-14T08:25:38.464Z"
   },
   {
    "duration": 2385,
    "start_time": "2023-08-14T08:25:38.481Z"
   },
   {
    "duration": 34,
    "start_time": "2023-08-14T08:25:40.870Z"
   },
   {
    "duration": 93,
    "start_time": "2023-08-14T08:26:16.891Z"
   },
   {
    "duration": 112,
    "start_time": "2023-08-14T08:28:15.159Z"
   },
   {
    "duration": 58,
    "start_time": "2023-08-14T08:28:31.034Z"
   },
   {
    "duration": 62,
    "start_time": "2023-08-14T08:29:21.735Z"
   },
   {
    "duration": 34,
    "start_time": "2023-08-14T08:29:57.799Z"
   },
   {
    "duration": 73,
    "start_time": "2023-08-14T08:29:58.341Z"
   },
   {
    "duration": 37,
    "start_time": "2023-08-14T08:30:04.145Z"
   },
   {
    "duration": 62,
    "start_time": "2023-08-14T08:30:05.513Z"
   },
   {
    "duration": 65565,
    "start_time": "2023-08-14T08:34:18.183Z"
   },
   {
    "duration": 111257,
    "start_time": "2023-08-14T08:36:22.306Z"
   },
   {
    "duration": 2233,
    "start_time": "2023-08-14T08:38:55.431Z"
   },
   {
    "duration": 4413,
    "start_time": "2023-08-14T08:40:08.937Z"
   },
   {
    "duration": 63,
    "start_time": "2023-08-14T08:40:20.612Z"
   },
   {
    "duration": 2347,
    "start_time": "2023-08-14T08:50:52.907Z"
   },
   {
    "duration": 76,
    "start_time": "2023-08-14T08:52:07.902Z"
   },
   {
    "duration": 1999,
    "start_time": "2023-08-14T08:52:58.518Z"
   },
   {
    "duration": 3,
    "start_time": "2023-08-14T08:53:00.520Z"
   },
   {
    "duration": 98,
    "start_time": "2023-08-14T08:53:00.525Z"
   },
   {
    "duration": 12,
    "start_time": "2023-08-14T08:53:00.625Z"
   },
   {
    "duration": 47,
    "start_time": "2023-08-14T08:53:00.638Z"
   },
   {
    "duration": 59,
    "start_time": "2023-08-14T08:53:00.686Z"
   },
   {
    "duration": 34,
    "start_time": "2023-08-14T08:53:00.747Z"
   },
   {
    "duration": 30,
    "start_time": "2023-08-14T08:53:00.783Z"
   },
   {
    "duration": 34,
    "start_time": "2023-08-14T08:53:00.815Z"
   },
   {
    "duration": 18,
    "start_time": "2023-08-14T08:53:00.852Z"
   },
   {
    "duration": 20,
    "start_time": "2023-08-14T08:53:00.871Z"
   },
   {
    "duration": 18,
    "start_time": "2023-08-14T08:53:00.893Z"
   },
   {
    "duration": 34,
    "start_time": "2023-08-14T08:53:00.912Z"
   },
   {
    "duration": 32,
    "start_time": "2023-08-14T08:53:00.947Z"
   },
   {
    "duration": 15,
    "start_time": "2023-08-14T08:53:00.981Z"
   },
   {
    "duration": 49,
    "start_time": "2023-08-14T08:53:00.997Z"
   },
   {
    "duration": 38,
    "start_time": "2023-08-14T08:53:01.051Z"
   },
   {
    "duration": 45,
    "start_time": "2023-08-14T08:53:01.091Z"
   },
   {
    "duration": 51,
    "start_time": "2023-08-14T08:53:01.138Z"
   },
   {
    "duration": 72,
    "start_time": "2023-08-14T08:53:01.191Z"
   },
   {
    "duration": 197,
    "start_time": "2023-08-14T08:53:01.268Z"
   },
   {
    "duration": 2143,
    "start_time": "2023-08-14T08:53:01.467Z"
   },
   {
    "duration": 33,
    "start_time": "2023-08-14T08:53:03.611Z"
   },
   {
    "duration": 66453,
    "start_time": "2023-08-14T08:53:03.645Z"
   },
   {
    "duration": 1154,
    "start_time": "2023-08-14T08:54:10.099Z"
   },
   {
    "duration": 17,
    "start_time": "2023-08-14T08:54:11.254Z"
   },
   {
    "duration": 131,
    "start_time": "2023-08-14T08:54:11.351Z"
   },
   {
    "duration": 4226,
    "start_time": "2023-08-14T08:54:11.485Z"
   },
   {
    "duration": 69,
    "start_time": "2023-08-14T08:54:15.713Z"
   },
   {
    "duration": 110434,
    "start_time": "2023-08-14T08:54:15.783Z"
   },
   {
    "duration": 2294,
    "start_time": "2023-08-14T08:56:06.218Z"
   },
   {
    "duration": 2305,
    "start_time": "2023-08-14T08:56:08.513Z"
   },
   {
    "duration": 77,
    "start_time": "2023-08-14T08:56:10.820Z"
   },
   {
    "duration": 0,
    "start_time": "2023-08-14T08:56:10.898Z"
   },
   {
    "duration": 2078,
    "start_time": "2023-08-14T09:01:34.672Z"
   },
   {
    "duration": 395,
    "start_time": "2023-08-14T09:01:36.753Z"
   },
   {
    "duration": 40,
    "start_time": "2023-08-14T09:01:37.157Z"
   },
   {
    "duration": 11,
    "start_time": "2023-08-14T09:01:37.199Z"
   },
   {
    "duration": 6,
    "start_time": "2023-08-14T09:01:37.212Z"
   },
   {
    "duration": 15,
    "start_time": "2023-08-14T09:01:37.220Z"
   },
   {
    "duration": 9,
    "start_time": "2023-08-14T09:01:37.237Z"
   },
   {
    "duration": 22,
    "start_time": "2023-08-14T09:01:37.253Z"
   },
   {
    "duration": 16,
    "start_time": "2023-08-14T09:01:37.277Z"
   },
   {
    "duration": 29,
    "start_time": "2023-08-14T09:01:37.295Z"
   },
   {
    "duration": 22,
    "start_time": "2023-08-14T09:01:37.326Z"
   },
   {
    "duration": 6,
    "start_time": "2023-08-14T09:01:37.350Z"
   },
   {
    "duration": 14,
    "start_time": "2023-08-14T09:01:37.357Z"
   },
   {
    "duration": 20,
    "start_time": "2023-08-14T09:01:37.373Z"
   },
   {
    "duration": 12,
    "start_time": "2023-08-14T09:01:37.395Z"
   },
   {
    "duration": 6,
    "start_time": "2023-08-14T09:01:37.408Z"
   },
   {
    "duration": 10,
    "start_time": "2023-08-14T09:01:37.415Z"
   },
   {
    "duration": 14,
    "start_time": "2023-08-14T09:01:37.426Z"
   },
   {
    "duration": 51,
    "start_time": "2023-08-14T09:01:37.442Z"
   },
   {
    "duration": 5,
    "start_time": "2023-08-14T09:01:37.495Z"
   },
   {
    "duration": 148,
    "start_time": "2023-08-14T09:01:37.502Z"
   },
   {
    "duration": 2122,
    "start_time": "2023-08-14T09:01:37.652Z"
   },
   {
    "duration": 22,
    "start_time": "2023-08-14T09:01:39.776Z"
   },
   {
    "duration": 68863,
    "start_time": "2023-08-14T09:01:39.799Z"
   },
   {
    "duration": 1193,
    "start_time": "2023-08-14T09:02:48.664Z"
   },
   {
    "duration": 21,
    "start_time": "2023-08-14T09:02:49.859Z"
   },
   {
    "duration": 189,
    "start_time": "2023-08-14T09:02:49.881Z"
   },
   {
    "duration": 4302,
    "start_time": "2023-08-14T09:02:50.071Z"
   },
   {
    "duration": 78,
    "start_time": "2023-08-14T09:02:54.374Z"
   },
   {
    "duration": 115058,
    "start_time": "2023-08-14T09:02:54.455Z"
   },
   {
    "duration": 2384,
    "start_time": "2023-08-14T09:04:49.515Z"
   },
   {
    "duration": 2434,
    "start_time": "2023-08-14T09:04:51.901Z"
   },
   {
    "duration": 236,
    "start_time": "2023-08-14T09:04:54.337Z"
   },
   {
    "duration": 8,
    "start_time": "2023-08-14T09:04:54.575Z"
   },
   {
    "duration": 4,
    "start_time": "2023-08-14T09:09:52.800Z"
   },
   {
    "duration": 27,
    "start_time": "2023-08-14T09:14:04.469Z"
   },
   {
    "duration": 2061,
    "start_time": "2023-08-14T09:14:11.131Z"
   },
   {
    "duration": 4,
    "start_time": "2023-08-14T09:14:13.194Z"
   },
   {
    "duration": 53,
    "start_time": "2023-08-14T09:14:13.200Z"
   },
   {
    "duration": 12,
    "start_time": "2023-08-14T09:14:13.255Z"
   },
   {
    "duration": 10,
    "start_time": "2023-08-14T09:14:13.269Z"
   },
   {
    "duration": 11,
    "start_time": "2023-08-14T09:14:13.280Z"
   },
   {
    "duration": 4,
    "start_time": "2023-08-14T09:14:13.292Z"
   },
   {
    "duration": 6,
    "start_time": "2023-08-14T09:14:13.298Z"
   },
   {
    "duration": 41,
    "start_time": "2023-08-14T09:14:13.306Z"
   },
   {
    "duration": 8,
    "start_time": "2023-08-14T09:14:13.349Z"
   },
   {
    "duration": 11,
    "start_time": "2023-08-14T09:14:13.358Z"
   },
   {
    "duration": 6,
    "start_time": "2023-08-14T09:14:13.370Z"
   },
   {
    "duration": 10,
    "start_time": "2023-08-14T09:14:13.377Z"
   },
   {
    "duration": 17,
    "start_time": "2023-08-14T09:14:13.389Z"
   },
   {
    "duration": 40,
    "start_time": "2023-08-14T09:14:13.407Z"
   },
   {
    "duration": 6,
    "start_time": "2023-08-14T09:14:13.449Z"
   },
   {
    "duration": 12,
    "start_time": "2023-08-14T09:14:13.456Z"
   },
   {
    "duration": 10,
    "start_time": "2023-08-14T09:14:13.470Z"
   },
   {
    "duration": 12,
    "start_time": "2023-08-14T09:14:13.481Z"
   },
   {
    "duration": 48,
    "start_time": "2023-08-14T09:14:13.494Z"
   },
   {
    "duration": 102,
    "start_time": "2023-08-14T09:14:13.543Z"
   },
   {
    "duration": 2153,
    "start_time": "2023-08-14T09:14:13.647Z"
   },
   {
    "duration": 22,
    "start_time": "2023-08-14T09:14:15.802Z"
   },
   {
    "duration": 67249,
    "start_time": "2023-08-14T09:14:15.826Z"
   },
   {
    "duration": 1161,
    "start_time": "2023-08-14T09:15:23.077Z"
   },
   {
    "duration": 22,
    "start_time": "2023-08-14T09:15:24.240Z"
   },
   {
    "duration": 216,
    "start_time": "2023-08-14T09:15:24.265Z"
   },
   {
    "duration": 4309,
    "start_time": "2023-08-14T09:15:24.483Z"
   },
   {
    "duration": 66,
    "start_time": "2023-08-14T09:15:28.793Z"
   },
   {
    "duration": 110675,
    "start_time": "2023-08-14T09:15:28.861Z"
   },
   {
    "duration": 2259,
    "start_time": "2023-08-14T09:17:19.537Z"
   },
   {
    "duration": 2298,
    "start_time": "2023-08-14T09:17:21.798Z"
   },
   {
    "duration": 168,
    "start_time": "2023-08-14T09:17:24.098Z"
   },
   {
    "duration": 5,
    "start_time": "2023-08-14T09:17:24.268Z"
   },
   {
    "duration": 20,
    "start_time": "2023-08-14T09:17:24.275Z"
   },
   {
    "duration": 14,
    "start_time": "2023-08-14T10:21:40.237Z"
   },
   {
    "duration": 7,
    "start_time": "2023-08-14T10:21:54.111Z"
   },
   {
    "duration": 2406,
    "start_time": "2023-08-14T10:27:30.350Z"
   },
   {
    "duration": 2166,
    "start_time": "2023-08-14T10:42:45.690Z"
   },
   {
    "duration": 5,
    "start_time": "2023-08-14T10:42:47.858Z"
   },
   {
    "duration": 50,
    "start_time": "2023-08-14T10:42:47.865Z"
   },
   {
    "duration": 12,
    "start_time": "2023-08-14T10:42:47.918Z"
   },
   {
    "duration": 31,
    "start_time": "2023-08-14T10:42:47.932Z"
   },
   {
    "duration": 17,
    "start_time": "2023-08-14T10:42:47.965Z"
   },
   {
    "duration": 5,
    "start_time": "2023-08-14T10:42:47.984Z"
   },
   {
    "duration": 12,
    "start_time": "2023-08-14T10:42:47.991Z"
   },
   {
    "duration": 18,
    "start_time": "2023-08-14T10:42:48.004Z"
   },
   {
    "duration": 19,
    "start_time": "2023-08-14T10:42:48.026Z"
   },
   {
    "duration": 31,
    "start_time": "2023-08-14T10:42:48.047Z"
   },
   {
    "duration": 6,
    "start_time": "2023-08-14T10:42:48.080Z"
   },
   {
    "duration": 9,
    "start_time": "2023-08-14T10:42:48.087Z"
   },
   {
    "duration": 39,
    "start_time": "2023-08-14T10:42:48.097Z"
   },
   {
    "duration": 14,
    "start_time": "2023-08-14T10:42:48.148Z"
   },
   {
    "duration": 19,
    "start_time": "2023-08-14T10:42:48.164Z"
   },
   {
    "duration": 14,
    "start_time": "2023-08-14T10:42:48.185Z"
   },
   {
    "duration": 18,
    "start_time": "2023-08-14T10:42:48.200Z"
   },
   {
    "duration": 43,
    "start_time": "2023-08-14T10:42:48.220Z"
   },
   {
    "duration": 20,
    "start_time": "2023-08-14T10:42:48.265Z"
   },
   {
    "duration": 72,
    "start_time": "2023-08-14T10:42:48.287Z"
   },
   {
    "duration": 2199,
    "start_time": "2023-08-14T10:42:48.364Z"
   },
   {
    "duration": 23,
    "start_time": "2023-08-14T10:42:50.565Z"
   },
   {
    "duration": 69155,
    "start_time": "2023-08-14T10:42:50.589Z"
   },
   {
    "duration": 1188,
    "start_time": "2023-08-14T10:43:59.745Z"
   },
   {
    "duration": 28,
    "start_time": "2023-08-14T10:44:00.938Z"
   },
   {
    "duration": 217,
    "start_time": "2023-08-14T10:44:00.968Z"
   },
   {
    "duration": 4480,
    "start_time": "2023-08-14T10:44:01.189Z"
   },
   {
    "duration": 73,
    "start_time": "2023-08-14T10:44:05.671Z"
   },
   {
    "duration": 113837,
    "start_time": "2023-08-14T10:44:05.745Z"
   },
   {
    "duration": 2390,
    "start_time": "2023-08-14T10:45:59.583Z"
   },
   {
    "duration": 2462,
    "start_time": "2023-08-14T10:46:01.975Z"
   },
   {
    "duration": 227,
    "start_time": "2023-08-14T10:46:04.453Z"
   },
   {
    "duration": 9,
    "start_time": "2023-08-14T10:46:04.683Z"
   },
   {
    "duration": 13,
    "start_time": "2023-08-14T10:46:04.694Z"
   },
   {
    "duration": 44,
    "start_time": "2023-08-15T17:17:07.429Z"
   },
   {
    "duration": 8424,
    "start_time": "2023-08-15T17:17:15.480Z"
   },
   {
    "duration": 579,
    "start_time": "2023-08-15T17:17:23.906Z"
   },
   {
    "duration": 88,
    "start_time": "2023-08-15T17:17:24.487Z"
   },
   {
    "duration": 12,
    "start_time": "2023-08-15T17:17:24.577Z"
   },
   {
    "duration": 34,
    "start_time": "2023-08-15T17:17:24.591Z"
   },
   {
    "duration": 38,
    "start_time": "2023-08-15T17:17:24.626Z"
   },
   {
    "duration": 2118,
    "start_time": "2023-08-15T17:39:17.249Z"
   },
   {
    "duration": 5,
    "start_time": "2023-08-15T17:39:19.370Z"
   },
   {
    "duration": 51,
    "start_time": "2023-08-15T17:39:19.376Z"
   },
   {
    "duration": 12,
    "start_time": "2023-08-15T17:39:19.430Z"
   },
   {
    "duration": 7,
    "start_time": "2023-08-15T17:39:19.444Z"
   },
   {
    "duration": 22,
    "start_time": "2023-08-15T17:39:19.453Z"
   },
   {
    "duration": 4,
    "start_time": "2023-08-15T17:39:19.477Z"
   },
   {
    "duration": 27,
    "start_time": "2023-08-15T17:39:19.483Z"
   },
   {
    "duration": 18,
    "start_time": "2023-08-15T17:39:19.512Z"
   },
   {
    "duration": 8,
    "start_time": "2023-08-15T17:39:19.532Z"
   },
   {
    "duration": 14,
    "start_time": "2023-08-15T17:39:19.542Z"
   },
   {
    "duration": 4,
    "start_time": "2023-08-15T17:39:19.558Z"
   },
   {
    "duration": 12,
    "start_time": "2023-08-15T17:39:19.563Z"
   },
   {
    "duration": 43,
    "start_time": "2023-08-15T17:39:19.577Z"
   },
   {
    "duration": 12,
    "start_time": "2023-08-15T17:39:19.621Z"
   },
   {
    "duration": 6,
    "start_time": "2023-08-15T17:39:19.635Z"
   },
   {
    "duration": 13,
    "start_time": "2023-08-15T17:39:19.643Z"
   },
   {
    "duration": 13,
    "start_time": "2023-08-15T17:39:19.657Z"
   },
   {
    "duration": 33,
    "start_time": "2023-08-15T17:39:19.672Z"
   },
   {
    "duration": 21,
    "start_time": "2023-08-15T17:39:19.706Z"
   },
   {
    "duration": 182,
    "start_time": "2023-08-15T17:39:19.731Z"
   },
   {
    "duration": 343,
    "start_time": "2023-08-15T17:39:19.915Z"
   },
   {
    "duration": 22,
    "start_time": "2023-08-15T17:39:37.970Z"
   },
   {
    "duration": 90,
    "start_time": "2023-08-15T17:43:08.880Z"
   },
   {
    "duration": 1912,
    "start_time": "2023-08-15T17:43:24.472Z"
   },
   {
    "duration": 154555,
    "start_time": "2023-08-15T17:45:00.814Z"
   },
   {
    "duration": 149862,
    "start_time": "2023-08-15T18:07:58.611Z"
   },
   {
    "duration": 9100,
    "start_time": "2023-08-15T18:12:26.293Z"
   },
   {
    "duration": 143,
    "start_time": "2023-08-15T18:12:53.811Z"
   },
   {
    "duration": 85,
    "start_time": "2023-08-15T18:14:14.893Z"
   },
   {
    "duration": 10,
    "start_time": "2023-08-15T18:16:08.411Z"
   },
   {
    "duration": 2051,
    "start_time": "2023-08-15T18:16:20.324Z"
   },
   {
    "duration": 5,
    "start_time": "2023-08-15T18:16:22.376Z"
   },
   {
    "duration": 58,
    "start_time": "2023-08-15T18:16:22.382Z"
   },
   {
    "duration": 11,
    "start_time": "2023-08-15T18:16:22.442Z"
   },
   {
    "duration": 8,
    "start_time": "2023-08-15T18:16:22.455Z"
   },
   {
    "duration": 20,
    "start_time": "2023-08-15T18:16:22.464Z"
   },
   {
    "duration": 4,
    "start_time": "2023-08-15T18:16:22.485Z"
   },
   {
    "duration": 8,
    "start_time": "2023-08-15T18:16:22.491Z"
   },
   {
    "duration": 12,
    "start_time": "2023-08-15T18:16:22.514Z"
   },
   {
    "duration": 8,
    "start_time": "2023-08-15T18:16:22.528Z"
   },
   {
    "duration": 10,
    "start_time": "2023-08-15T18:16:22.538Z"
   },
   {
    "duration": 6,
    "start_time": "2023-08-15T18:16:22.549Z"
   },
   {
    "duration": 10,
    "start_time": "2023-08-15T18:16:22.556Z"
   },
   {
    "duration": 16,
    "start_time": "2023-08-15T18:16:22.567Z"
   },
   {
    "duration": 9,
    "start_time": "2023-08-15T18:16:22.612Z"
   },
   {
    "duration": 14,
    "start_time": "2023-08-15T18:16:22.623Z"
   },
   {
    "duration": 20,
    "start_time": "2023-08-15T18:16:22.638Z"
   },
   {
    "duration": 17,
    "start_time": "2023-08-15T18:16:22.659Z"
   },
   {
    "duration": 10,
    "start_time": "2023-08-15T18:16:22.678Z"
   },
   {
    "duration": 33,
    "start_time": "2023-08-15T18:16:22.690Z"
   },
   {
    "duration": 181,
    "start_time": "2023-08-15T18:16:22.724Z"
   },
   {
    "duration": 341,
    "start_time": "2023-08-15T18:16:22.909Z"
   },
   {
    "duration": 21,
    "start_time": "2023-08-15T18:16:23.252Z"
   },
   {
    "duration": 1811,
    "start_time": "2023-08-15T18:16:23.275Z"
   },
   {
    "duration": 9225,
    "start_time": "2023-08-15T18:16:25.088Z"
   },
   {
    "duration": 142,
    "start_time": "2023-08-15T18:16:34.315Z"
   },
   {
    "duration": 46,
    "start_time": "2023-08-15T18:16:34.459Z"
   },
   {
    "duration": 133,
    "start_time": "2023-08-15T18:16:34.511Z"
   },
   {
    "duration": 665,
    "start_time": "2023-08-15T18:16:34.645Z"
   },
   {
    "duration": 48,
    "start_time": "2023-08-15T18:17:36.679Z"
   },
   {
    "duration": 5,
    "start_time": "2023-08-15T18:18:45.871Z"
   },
   {
    "duration": 5,
    "start_time": "2023-08-15T18:19:20.714Z"
   },
   {
    "duration": 5,
    "start_time": "2023-08-15T18:19:43.532Z"
   },
   {
    "duration": 1040,
    "start_time": "2023-08-15T18:20:35.723Z"
   },
   {
    "duration": 760,
    "start_time": "2023-08-15T18:20:48.991Z"
   },
   {
    "duration": 15,
    "start_time": "2023-08-15T18:21:18.532Z"
   },
   {
    "duration": 13,
    "start_time": "2023-08-15T18:21:38.346Z"
   },
   {
    "duration": 11,
    "start_time": "2023-08-15T18:22:54.731Z"
   },
   {
    "duration": 11,
    "start_time": "2023-08-15T18:23:07.529Z"
   },
   {
    "duration": 6,
    "start_time": "2023-08-15T18:23:25.376Z"
   },
   {
    "duration": 3,
    "start_time": "2023-08-15T18:23:49.079Z"
   },
   {
    "duration": 4,
    "start_time": "2023-08-15T18:23:57.576Z"
   },
   {
    "duration": 4,
    "start_time": "2023-08-15T18:24:04.645Z"
   },
   {
    "duration": 4,
    "start_time": "2023-08-15T18:24:32.215Z"
   },
   {
    "duration": 4,
    "start_time": "2023-08-15T18:24:38.044Z"
   },
   {
    "duration": 6,
    "start_time": "2023-08-15T18:24:42.011Z"
   },
   {
    "duration": 5,
    "start_time": "2023-08-15T18:25:37.822Z"
   },
   {
    "duration": 1708,
    "start_time": "2023-08-15T18:28:29.545Z"
   },
   {
    "duration": 8871,
    "start_time": "2023-08-15T18:28:31.255Z"
   },
   {
    "duration": 251,
    "start_time": "2023-08-15T18:28:55.454Z"
   },
   {
    "duration": 261,
    "start_time": "2023-08-15T18:30:57.978Z"
   },
   {
    "duration": 2089,
    "start_time": "2023-08-15T18:31:25.757Z"
   },
   {
    "duration": 4,
    "start_time": "2023-08-15T18:31:27.849Z"
   },
   {
    "duration": 51,
    "start_time": "2023-08-15T18:31:27.854Z"
   },
   {
    "duration": 13,
    "start_time": "2023-08-15T18:31:27.907Z"
   },
   {
    "duration": 13,
    "start_time": "2023-08-15T18:31:27.921Z"
   },
   {
    "duration": 23,
    "start_time": "2023-08-15T18:31:27.936Z"
   },
   {
    "duration": 4,
    "start_time": "2023-08-15T18:31:27.960Z"
   },
   {
    "duration": 13,
    "start_time": "2023-08-15T18:31:27.965Z"
   },
   {
    "duration": 15,
    "start_time": "2023-08-15T18:31:27.980Z"
   },
   {
    "duration": 8,
    "start_time": "2023-08-15T18:31:28.009Z"
   },
   {
    "duration": 25,
    "start_time": "2023-08-15T18:31:28.018Z"
   },
   {
    "duration": 4,
    "start_time": "2023-08-15T18:31:28.044Z"
   },
   {
    "duration": 8,
    "start_time": "2023-08-15T18:31:28.049Z"
   },
   {
    "duration": 20,
    "start_time": "2023-08-15T18:31:28.058Z"
   },
   {
    "duration": 11,
    "start_time": "2023-08-15T18:31:28.080Z"
   },
   {
    "duration": 6,
    "start_time": "2023-08-15T18:31:28.092Z"
   },
   {
    "duration": 22,
    "start_time": "2023-08-15T18:31:28.101Z"
   },
   {
    "duration": 12,
    "start_time": "2023-08-15T18:31:28.124Z"
   },
   {
    "duration": 11,
    "start_time": "2023-08-15T18:31:28.139Z"
   },
   {
    "duration": 61,
    "start_time": "2023-08-15T18:31:28.151Z"
   },
   {
    "duration": 8,
    "start_time": "2023-08-15T18:31:28.214Z"
   },
   {
    "duration": 440,
    "start_time": "2023-08-15T18:31:28.223Z"
   },
   {
    "duration": 20,
    "start_time": "2023-08-15T18:31:28.665Z"
   },
   {
    "duration": 1828,
    "start_time": "2023-08-15T18:31:28.686Z"
   },
   {
    "duration": 9234,
    "start_time": "2023-08-15T18:31:30.516Z"
   },
   {
    "duration": 170,
    "start_time": "2023-08-15T18:31:39.752Z"
   },
   {
    "duration": 94,
    "start_time": "2023-08-15T18:31:39.923Z"
   },
   {
    "duration": 124,
    "start_time": "2023-08-15T18:31:40.021Z"
   },
   {
    "duration": 714,
    "start_time": "2023-08-15T18:31:40.147Z"
   },
   {
    "duration": 58,
    "start_time": "2023-08-15T18:31:40.863Z"
   },
   {
    "duration": 5,
    "start_time": "2023-08-15T18:31:40.923Z"
   },
   {
    "duration": 1886,
    "start_time": "2023-08-15T18:31:40.930Z"
   },
   {
    "duration": 9264,
    "start_time": "2023-08-15T18:31:42.818Z"
   },
   {
    "duration": 250,
    "start_time": "2023-08-15T18:31:52.083Z"
   },
   {
    "duration": 262,
    "start_time": "2023-08-15T18:31:52.334Z"
   },
   {
    "duration": 131,
    "start_time": "2023-08-15T18:31:52.599Z"
   },
   {
    "duration": 5,
    "start_time": "2023-08-15T18:31:52.731Z"
   },
   {
    "duration": 32,
    "start_time": "2023-08-15T18:31:52.737Z"
   },
   {
    "duration": 8233,
    "start_time": "2023-08-16T07:55:40.936Z"
   },
   {
    "duration": 641,
    "start_time": "2023-08-16T07:55:49.171Z"
   },
   {
    "duration": 87,
    "start_time": "2023-08-16T07:55:49.814Z"
   },
   {
    "duration": 16,
    "start_time": "2023-08-16T07:55:49.903Z"
   },
   {
    "duration": 12,
    "start_time": "2023-08-16T07:55:49.920Z"
   },
   {
    "duration": 28,
    "start_time": "2023-08-16T07:55:49.933Z"
   },
   {
    "duration": 4,
    "start_time": "2023-08-16T07:55:49.963Z"
   },
   {
    "duration": 19,
    "start_time": "2023-08-16T07:55:49.969Z"
   },
   {
    "duration": 27,
    "start_time": "2023-08-16T07:55:49.990Z"
   },
   {
    "duration": 41,
    "start_time": "2023-08-16T07:55:50.020Z"
   },
   {
    "duration": 24,
    "start_time": "2023-08-16T07:55:50.063Z"
   },
   {
    "duration": 17,
    "start_time": "2023-08-16T07:55:50.089Z"
   },
   {
    "duration": 29,
    "start_time": "2023-08-16T07:55:50.107Z"
   },
   {
    "duration": 36,
    "start_time": "2023-08-16T07:55:50.138Z"
   },
   {
    "duration": 15,
    "start_time": "2023-08-16T07:55:50.176Z"
   },
   {
    "duration": 26,
    "start_time": "2023-08-16T07:55:50.193Z"
   },
   {
    "duration": 40,
    "start_time": "2023-08-16T07:55:50.221Z"
   },
   {
    "duration": 19,
    "start_time": "2023-08-16T07:55:50.263Z"
   },
   {
    "duration": 43,
    "start_time": "2023-08-16T07:55:50.283Z"
   },
   {
    "duration": 6,
    "start_time": "2023-08-16T07:55:50.328Z"
   },
   {
    "duration": 130,
    "start_time": "2023-08-16T07:55:50.336Z"
   },
   {
    "duration": 367,
    "start_time": "2023-08-16T07:55:50.468Z"
   },
   {
    "duration": 23,
    "start_time": "2023-08-16T08:02:24.012Z"
   },
   {
    "duration": 1894,
    "start_time": "2023-08-16T08:02:26.763Z"
   },
   {
    "duration": 10208,
    "start_time": "2023-08-16T08:09:21.393Z"
   },
   {
    "duration": 157,
    "start_time": "2023-08-16T08:09:39.133Z"
   },
   {
    "duration": 125,
    "start_time": "2023-08-16T08:10:15.025Z"
   },
   {
    "duration": 0,
    "start_time": "2023-08-16T08:10:15.152Z"
   },
   {
    "duration": 0,
    "start_time": "2023-08-16T08:10:15.153Z"
   },
   {
    "duration": 0,
    "start_time": "2023-08-16T08:10:15.154Z"
   },
   {
    "duration": 0,
    "start_time": "2023-08-16T08:10:15.155Z"
   },
   {
    "duration": 0,
    "start_time": "2023-08-16T08:10:15.159Z"
   },
   {
    "duration": 0,
    "start_time": "2023-08-16T08:10:15.159Z"
   },
   {
    "duration": 0,
    "start_time": "2023-08-16T08:10:15.161Z"
   },
   {
    "duration": 0,
    "start_time": "2023-08-16T08:10:15.162Z"
   },
   {
    "duration": 2222,
    "start_time": "2023-08-16T08:10:33.722Z"
   },
   {
    "duration": 6,
    "start_time": "2023-08-16T08:10:35.947Z"
   },
   {
    "duration": 68,
    "start_time": "2023-08-16T08:10:35.955Z"
   },
   {
    "duration": 19,
    "start_time": "2023-08-16T08:10:36.025Z"
   },
   {
    "duration": 7,
    "start_time": "2023-08-16T08:10:36.046Z"
   },
   {
    "duration": 57,
    "start_time": "2023-08-16T08:10:36.054Z"
   },
   {
    "duration": 18,
    "start_time": "2023-08-16T08:10:36.113Z"
   },
   {
    "duration": 51,
    "start_time": "2023-08-16T08:10:36.133Z"
   },
   {
    "duration": 23,
    "start_time": "2023-08-16T08:10:36.186Z"
   },
   {
    "duration": 23,
    "start_time": "2023-08-16T08:10:36.211Z"
   },
   {
    "duration": 13,
    "start_time": "2023-08-16T08:10:36.236Z"
   },
   {
    "duration": 9,
    "start_time": "2023-08-16T08:10:36.251Z"
   },
   {
    "duration": 18,
    "start_time": "2023-08-16T08:10:36.261Z"
   },
   {
    "duration": 30,
    "start_time": "2023-08-16T08:10:36.280Z"
   },
   {
    "duration": 12,
    "start_time": "2023-08-16T08:10:36.312Z"
   },
   {
    "duration": 19,
    "start_time": "2023-08-16T08:10:36.326Z"
   },
   {
    "duration": 36,
    "start_time": "2023-08-16T08:10:36.347Z"
   },
   {
    "duration": 20,
    "start_time": "2023-08-16T08:10:36.385Z"
   },
   {
    "duration": 23,
    "start_time": "2023-08-16T08:10:36.407Z"
   },
   {
    "duration": 27,
    "start_time": "2023-08-16T08:10:36.432Z"
   },
   {
    "duration": 105,
    "start_time": "2023-08-16T08:10:36.462Z"
   },
   {
    "duration": 445,
    "start_time": "2023-08-16T08:10:36.572Z"
   },
   {
    "duration": 24,
    "start_time": "2023-08-16T08:10:37.019Z"
   },
   {
    "duration": 1843,
    "start_time": "2023-08-16T08:10:37.059Z"
   },
   {
    "duration": 9138,
    "start_time": "2023-08-16T08:10:38.904Z"
   },
   {
    "duration": 162,
    "start_time": "2023-08-16T08:10:48.044Z"
   },
   {
    "duration": 52,
    "start_time": "2023-08-16T08:10:48.208Z"
   },
   {
    "duration": 128,
    "start_time": "2023-08-16T08:10:48.266Z"
   },
   {
    "duration": 660,
    "start_time": "2023-08-16T08:10:48.396Z"
   },
   {
    "duration": 46,
    "start_time": "2023-08-16T08:11:02.244Z"
   },
   {
    "duration": 2095,
    "start_time": "2023-08-16T08:14:45.963Z"
   },
   {
    "duration": 5,
    "start_time": "2023-08-16T08:14:48.061Z"
   },
   {
    "duration": 56,
    "start_time": "2023-08-16T08:14:48.068Z"
   },
   {
    "duration": 16,
    "start_time": "2023-08-16T08:14:48.126Z"
   },
   {
    "duration": 19,
    "start_time": "2023-08-16T08:14:48.144Z"
   },
   {
    "duration": 33,
    "start_time": "2023-08-16T08:14:48.166Z"
   },
   {
    "duration": 5,
    "start_time": "2023-08-16T08:14:48.202Z"
   },
   {
    "duration": 10,
    "start_time": "2023-08-16T08:14:48.209Z"
   },
   {
    "duration": 18,
    "start_time": "2023-08-16T08:14:48.221Z"
   },
   {
    "duration": 11,
    "start_time": "2023-08-16T08:14:48.259Z"
   },
   {
    "duration": 15,
    "start_time": "2023-08-16T08:14:48.272Z"
   },
   {
    "duration": 19,
    "start_time": "2023-08-16T08:14:48.289Z"
   },
   {
    "duration": 21,
    "start_time": "2023-08-16T08:14:48.310Z"
   },
   {
    "duration": 40,
    "start_time": "2023-08-16T08:14:48.334Z"
   },
   {
    "duration": 21,
    "start_time": "2023-08-16T08:14:48.376Z"
   },
   {
    "duration": 13,
    "start_time": "2023-08-16T08:14:48.400Z"
   },
   {
    "duration": 30,
    "start_time": "2023-08-16T08:14:48.415Z"
   },
   {
    "duration": 15,
    "start_time": "2023-08-16T08:14:48.447Z"
   },
   {
    "duration": 25,
    "start_time": "2023-08-16T08:14:48.464Z"
   },
   {
    "duration": 6,
    "start_time": "2023-08-16T08:14:48.491Z"
   },
   {
    "duration": 164,
    "start_time": "2023-08-16T08:14:48.499Z"
   },
   {
    "duration": 361,
    "start_time": "2023-08-16T08:14:48.665Z"
   },
   {
    "duration": 22,
    "start_time": "2023-08-16T08:14:49.027Z"
   },
   {
    "duration": 1803,
    "start_time": "2023-08-16T08:14:49.059Z"
   },
   {
    "duration": 9058,
    "start_time": "2023-08-16T08:14:50.864Z"
   },
   {
    "duration": 160,
    "start_time": "2023-08-16T08:14:59.924Z"
   },
   {
    "duration": 19,
    "start_time": "2023-08-16T08:15:00.086Z"
   },
   {
    "duration": 177,
    "start_time": "2023-08-16T08:15:00.162Z"
   },
   {
    "duration": 644,
    "start_time": "2023-08-16T08:15:00.341Z"
   },
   {
    "duration": 41,
    "start_time": "2023-08-16T08:15:00.987Z"
   },
   {
    "duration": 9,
    "start_time": "2023-08-16T08:15:01.030Z"
   },
   {
    "duration": 1853,
    "start_time": "2023-08-16T08:15:01.040Z"
   },
   {
    "duration": 9596,
    "start_time": "2023-08-16T08:15:02.894Z"
   },
   {
    "duration": 256,
    "start_time": "2023-08-16T08:15:20.999Z"
   },
   {
    "duration": 2358,
    "start_time": "2023-08-16T08:16:16.679Z"
   },
   {
    "duration": 7,
    "start_time": "2023-08-16T08:16:19.040Z"
   },
   {
    "duration": 57,
    "start_time": "2023-08-16T08:16:19.049Z"
   },
   {
    "duration": 16,
    "start_time": "2023-08-16T08:16:19.110Z"
   },
   {
    "duration": 10,
    "start_time": "2023-08-16T08:16:19.129Z"
   },
   {
    "duration": 32,
    "start_time": "2023-08-16T08:16:19.141Z"
   },
   {
    "duration": 6,
    "start_time": "2023-08-16T08:16:19.175Z"
   },
   {
    "duration": 20,
    "start_time": "2023-08-16T08:16:19.183Z"
   },
   {
    "duration": 29,
    "start_time": "2023-08-16T08:16:19.205Z"
   },
   {
    "duration": 11,
    "start_time": "2023-08-16T08:16:19.237Z"
   },
   {
    "duration": 13,
    "start_time": "2023-08-16T08:16:19.260Z"
   },
   {
    "duration": 10,
    "start_time": "2023-08-16T08:16:19.275Z"
   },
   {
    "duration": 22,
    "start_time": "2023-08-16T08:16:19.287Z"
   },
   {
    "duration": 50,
    "start_time": "2023-08-16T08:16:19.311Z"
   },
   {
    "duration": 21,
    "start_time": "2023-08-16T08:16:19.364Z"
   },
   {
    "duration": 13,
    "start_time": "2023-08-16T08:16:19.387Z"
   },
   {
    "duration": 13,
    "start_time": "2023-08-16T08:16:19.402Z"
   },
   {
    "duration": 12,
    "start_time": "2023-08-16T08:16:19.418Z"
   },
   {
    "duration": 41,
    "start_time": "2023-08-16T08:16:19.432Z"
   },
   {
    "duration": 13,
    "start_time": "2023-08-16T08:16:19.475Z"
   },
   {
    "duration": 8,
    "start_time": "2023-08-16T08:16:19.560Z"
   },
   {
    "duration": 460,
    "start_time": "2023-08-16T08:16:19.570Z"
   },
   {
    "duration": 31,
    "start_time": "2023-08-16T08:16:20.032Z"
   },
   {
    "duration": 1892,
    "start_time": "2023-08-16T08:16:20.065Z"
   },
   {
    "duration": 9571,
    "start_time": "2023-08-16T08:16:21.958Z"
   },
   {
    "duration": 150,
    "start_time": "2023-08-16T08:16:31.530Z"
   },
   {
    "duration": 80,
    "start_time": "2023-08-16T08:16:31.682Z"
   },
   {
    "duration": 145,
    "start_time": "2023-08-16T08:16:31.768Z"
   },
   {
    "duration": 635,
    "start_time": "2023-08-16T08:16:31.915Z"
   },
   {
    "duration": 49,
    "start_time": "2023-08-16T08:16:32.552Z"
   },
   {
    "duration": 6,
    "start_time": "2023-08-16T08:16:32.604Z"
   },
   {
    "duration": 1835,
    "start_time": "2023-08-16T08:16:32.611Z"
   },
   {
    "duration": 9334,
    "start_time": "2023-08-16T08:16:34.448Z"
   },
   {
    "duration": 249,
    "start_time": "2023-08-16T08:16:43.784Z"
   },
   {
    "duration": 268,
    "start_time": "2023-08-16T08:16:44.034Z"
   },
   {
    "duration": 150,
    "start_time": "2023-08-16T08:16:44.304Z"
   },
   {
    "duration": 8,
    "start_time": "2023-08-16T08:16:44.459Z"
   },
   {
    "duration": 15,
    "start_time": "2023-08-16T08:16:44.469Z"
   },
   {
    "duration": 9402,
    "start_time": "2023-10-25T09:25:55.589Z"
   },
   {
    "duration": 767,
    "start_time": "2023-10-25T09:26:04.993Z"
   },
   {
    "duration": 98,
    "start_time": "2023-10-25T09:26:05.764Z"
   },
   {
    "duration": 16,
    "start_time": "2023-10-25T09:26:05.865Z"
   },
   {
    "duration": 11,
    "start_time": "2023-10-25T09:26:05.883Z"
   },
   {
    "duration": 34,
    "start_time": "2023-10-25T09:26:05.897Z"
   },
   {
    "duration": 6,
    "start_time": "2023-10-25T09:26:05.933Z"
   },
   {
    "duration": 26,
    "start_time": "2023-10-25T09:26:05.946Z"
   },
   {
    "duration": 28,
    "start_time": "2023-10-25T09:26:05.974Z"
   },
   {
    "duration": 15,
    "start_time": "2023-10-25T09:26:06.005Z"
   },
   {
    "duration": 12,
    "start_time": "2023-10-25T09:26:06.022Z"
   },
   {
    "duration": 27,
    "start_time": "2023-10-25T09:26:06.036Z"
   },
   {
    "duration": 25,
    "start_time": "2023-10-25T09:26:06.065Z"
   },
   {
    "duration": 35,
    "start_time": "2023-10-25T09:26:06.092Z"
   },
   {
    "duration": 15,
    "start_time": "2023-10-25T09:26:06.129Z"
   },
   {
    "duration": 48,
    "start_time": "2023-10-25T09:26:06.146Z"
   },
   {
    "duration": 58,
    "start_time": "2023-10-25T09:26:06.196Z"
   },
   {
    "duration": 15,
    "start_time": "2023-10-25T09:26:06.256Z"
   },
   {
    "duration": 22,
    "start_time": "2023-10-25T09:26:06.273Z"
   },
   {
    "duration": 61,
    "start_time": "2023-10-25T09:26:06.297Z"
   },
   {
    "duration": 90,
    "start_time": "2023-10-25T09:26:06.360Z"
   },
   {
    "duration": 450,
    "start_time": "2023-10-25T09:26:06.461Z"
   },
   {
    "duration": 35,
    "start_time": "2023-10-25T09:26:06.913Z"
   },
   {
    "duration": 2092,
    "start_time": "2023-10-25T09:26:06.950Z"
   },
   {
    "duration": 10857,
    "start_time": "2023-10-25T09:26:09.046Z"
   },
   {
    "duration": 191,
    "start_time": "2023-10-25T09:26:19.905Z"
   },
   {
    "duration": 61,
    "start_time": "2023-10-25T09:26:20.098Z"
   },
   {
    "duration": 125,
    "start_time": "2023-10-25T09:26:20.168Z"
   },
   {
    "duration": 790,
    "start_time": "2023-10-25T09:26:20.295Z"
   },
   {
    "duration": 72,
    "start_time": "2023-10-25T09:26:21.088Z"
   },
   {
    "duration": 6,
    "start_time": "2023-10-25T09:26:21.163Z"
   },
   {
    "duration": 2088,
    "start_time": "2023-10-25T09:26:21.171Z"
   },
   {
    "duration": 10926,
    "start_time": "2023-10-25T09:26:23.267Z"
   },
   {
    "duration": 309,
    "start_time": "2023-10-25T09:26:34.195Z"
   },
   {
    "duration": 349,
    "start_time": "2023-10-25T09:26:34.507Z"
   },
   {
    "duration": 174,
    "start_time": "2023-10-25T09:26:34.859Z"
   },
   {
    "duration": 16,
    "start_time": "2023-10-25T09:26:35.036Z"
   },
   {
    "duration": 30,
    "start_time": "2023-10-25T09:26:35.053Z"
   },
   {
    "duration": 1016,
    "start_time": "2023-10-25T09:27:25.204Z"
   },
   {
    "duration": 3899,
    "start_time": "2023-10-25T09:27:40.036Z"
   },
   {
    "duration": 218,
    "start_time": "2023-10-25T09:27:53.664Z"
   },
   {
    "duration": 3413,
    "start_time": "2023-10-25T09:28:43.584Z"
   },
   {
    "duration": 142,
    "start_time": "2023-10-25T09:28:51.919Z"
   }
  ],
  "kernelspec": {
   "display_name": "Python 3 (ipykernel)",
   "language": "python",
   "name": "python3"
  },
  "language_info": {
   "codemirror_mode": {
    "name": "ipython",
    "version": 3
   },
   "file_extension": ".py",
   "mimetype": "text/x-python",
   "name": "python",
   "nbconvert_exporter": "python",
   "pygments_lexer": "ipython3",
   "version": "3.11.4"
  },
  "toc": {
   "base_numbering": 1,
   "nav_menu": {},
   "number_sections": true,
   "sideBar": true,
   "skip_h1_title": true,
   "title_cell": "Содержание",
   "title_sidebar": "Contents",
   "toc_cell": true,
   "toc_position": {
    "height": "calc(100% - 180px)",
    "left": "10px",
    "top": "150px",
    "width": "371px"
   },
   "toc_section_display": true,
   "toc_window_display": false
  }
 },
 "nbformat": 4,
 "nbformat_minor": 4
}
